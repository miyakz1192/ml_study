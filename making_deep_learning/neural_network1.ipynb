{
 "cells": [
  {
   "cell_type": "code",
   "execution_count": 2,
   "metadata": {},
   "outputs": [
    {
     "name": "stdout",
     "output_type": "stream",
     "text": [
      "===== Learning Step Function =====\n"
     ]
    },
    {
     "data": {
      "image/png": "[encoded data removed]",
      "text/plain": [
       "<Figure size 432x288 with 1 Axes>"
      ]
     },
     "metadata": {
      "needs_background": "light"
     },
     "output_type": "display_data"
    }
   ],
   "source": [
    "#########################################################\n",
    "#第３章（ニューラルネットワーク）の学習\n",
    "#ステップ関数/シグモイド関数\n",
    "#行列の計算\n",
    "#３層ニューラルネットワーク\n",
    "#########################################################\n",
    "\n",
    "import numpy as np\n",
    "import matplotlib.pylab as plt\n",
    "\n",
    "#########################################################\n",
    "#ステップ関数の学習\n",
    "#########################################################\n",
    "\n",
    "print(\"===== Learning Step Function =====\")\n",
    "\n",
    "def step_function(x):\n",
    "    return np.array(x > 0, dtype=np.int)\n",
    "\n",
    "x = np.arange(-5.0, 5.0, 0.1) #-5 ~ 5の範囲を0.1刻みでデータを生成\n",
    "y = step_function(x)\n",
    "\n",
    "plt.plot(x,y)\n",
    "plt.ylim(-0.1, 1.1) #Y軸の範囲を指定\n",
    "\n",
    "plt.show()"
   ]
  },
  {
   "cell_type": "code",
   "execution_count": 23,
   "metadata": {},
   "outputs": [
    {
     "name": "stdout",
     "output_type": "stream",
     "text": [
      "===== Learning Sigmoid Function =====\n"
     ]
    },
    {
     "data": {
      "image/png": "[encoded data removed]",
      "text/plain": [
       "<Figure size 432x288 with 1 Axes>"
      ]
     },
     "metadata": {
      "needs_background": "light"
     },
     "output_type": "display_data"
    }
   ],
   "source": [
    "#########################################################\n",
    "#シグモイド関数の学習\n",
    "#########################################################\n",
    "\n",
    "print(\"===== Learning Sigmoid Function =====\")\n",
    "\n",
    "def sigmoid_function(x):\n",
    "    return 1 / (1 + np.exp(-x))\n",
    "\n",
    "def sigmoid(x):\n",
    "    return sigmoid_function(x)\n",
    "\n",
    "x = np.arange(-5.0, 5.0, 0.1) #-5 ~ 5の範囲を0.1刻みでデータを生成\n",
    "y = sigmoid_function(x)\n",
    "\n",
    "plt.plot(x,y)\n",
    "plt.ylim(-0.1, 1.1) #Y軸の範囲を指定\n",
    "\n",
    "plt.show()\n",
    "\n"
   ]
  },
  {
   "cell_type": "code",
   "execution_count": 5,
   "metadata": {},
   "outputs": [
    {
     "name": "stdout",
     "output_type": "stream",
     "text": [
      "==== preparing sigmoid and step function\n"
     ]
    },
    {
     "data": {
      "image/png": "[encoded data removed]",
      "text/plain": [
       "<Figure size 432x288 with 1 Axes>"
      ]
     },
     "metadata": {
      "needs_background": "light"
     },
     "output_type": "display_data"
    }
   ],
   "source": [
    "#########################################################\n",
    "#シグモイド関数とステップ関数の比較\n",
    "#########################################################\n",
    "\n",
    "print(\"==== preparing sigmoid and step function====\")\n",
    "\n",
    "x = np.arange(-5.0, 5.0, 0.1) #-5 ~ 5の範囲を0.1刻みでデータを生成\n",
    "y_sig = sigmoid_function(x)\n",
    "y_stp = step_function(x)\n",
    "\n",
    "plt.plot(x,y_sig)\n",
    "plt.plot(x,y_stp)\n",
    "plt.ylim(-0.1, 1.1) #Y軸の範囲を指定\n",
    "\n",
    "plt.show()\n"
   ]
  },
  {
   "cell_type": "code",
   "execution_count": 7,
   "metadata": {},
   "outputs": [
    {
     "name": "stdout",
     "output_type": "stream",
     "text": [
      "==== calculation of matrix====\n",
      "shape of matrix\n",
      "[1 2 3 4]\n",
      "dimension of A\n",
      "1\n",
      "shape of A\n",
      "(4,)\n",
      "print shape\n",
      "4\n"
     ]
    }
   ],
   "source": [
    "########################################\n",
    "#行列の計算\n",
    "########################################\n",
    "\n",
    "print(\"==== calculation of matrix====\")\n",
    "\n",
    "A = np.array([1,2,3,4])\n",
    "print(\"shape of matrix\")\n",
    "print(A)\n",
    "print(\"dimension of A\")\n",
    "print(np.ndim(A))\n",
    "print(\"shape of A\")\n",
    "print(A.shape)\n",
    "print(\"print shape\")\n",
    "print(A.shape[0])\n",
    "#以下のコードはエラーになる。\n",
    "#print(A.shape[1])\n",
    "\n"
   ]
  },
  {
   "cell_type": "code",
   "execution_count": 14,
   "metadata": {},
   "outputs": [
    {
     "name": "stdout",
     "output_type": "stream",
     "text": [
      "[[ 1  2  3]\n",
      " [ 4  5  6]\n",
      " [ 7  8  9]\n",
      " [10 11 12]]\n",
      "(4, 3)\n",
      "2\n",
      "[[[ 1  2  3]\n",
      "  [ 4  5  6]\n",
      "  [ 7  8  9]\n",
      "  [10 11 12]]\n",
      "\n",
      " [[ 1  2  3]\n",
      "  [ 4  5  6]\n",
      "  [ 7  8  9]\n",
      "  [10 11 12]]]\n",
      "3\n"
     ]
    }
   ],
   "source": [
    "#########################\n",
    "#行列基本形\n",
    "#########################\n",
    "\n",
    "A = np.array([[1,2,3],[4,5,6],[7,8,9],[10,11,12]])\n",
    "print(A)\n",
    "print(A.shape)\n",
    "#Aは２次元配列なので、ndim(A)は2になる\n",
    "print(np.ndim(A))\n",
    "\n",
    "B = np.array([[[1,2,3],[4,5,6],[7,8,9],[10,11,12]],[[1,2,3],[4,5,6],[7,8,9],[10,11,12]]])\n",
    "print(B)\n",
    "#Bは3次元配列なので、ndim(B)は3になる\n",
    "print(np.ndim(B))"
   ]
  },
  {
   "cell_type": "code",
   "execution_count": 15,
   "metadata": {},
   "outputs": [
    {
     "name": "stdout",
     "output_type": "stream",
     "text": [
      "[[1 2]\n",
      " [3 4]]\n",
      "[[5 6]\n",
      " [7 8]]\n",
      "[[19 22]\n",
      " [43 50]]\n"
     ]
    }
   ],
   "source": [
    "#################################\n",
    "#行列の積\n",
    "#################################\n",
    "\n",
    "#dot関数は、普通の線形代数でいうところの行列の積の計算になる\n",
    "A = np.array([[1,2],[3,4]])\n",
    "B = np.array([[5,6],[7,8]])\n",
    "\n",
    "print(A)\n",
    "print(B)\n",
    "print(A.dot(B))"
   ]
  },
  {
   "cell_type": "code",
   "execution_count": 16,
   "metadata": {},
   "outputs": [
    {
     "name": "stdout",
     "output_type": "stream",
     "text": [
      "[1 2]\n",
      "[[3 4 5]\n",
      " [6 7 8]]\n",
      "[15 18 21]\n"
     ]
    }
   ],
   "source": [
    "################################################\n",
    "# 3.3.3ニューラルネットワークの行列の積の計算\n",
    "################################################\n",
    "\n",
    "#図の3-14に記載されているネットワークを計算してみる\n",
    "#層は入力層と、出力層から形成される、１層のネットワーク\n",
    "#入力層がX(要素２)で、出力層がY（要素３）\n",
    "#Xが1行2列、Yが3列にしたいので、重み（Ｗ）は2行3列にする必要がある。\n",
    "\n",
    "X = np.array([1,2]) #入力層\n",
    "W = np.array([[3,4,5],[6,7,8]])\n",
    "Y = np.dot(X,W)\n",
    "print(X)\n",
    "print(W)\n",
    "print(Y)\n",
    "\n",
    "\n",
    "\n",
    "\n"
   ]
  },
  {
   "cell_type": "code",
   "execution_count": 25,
   "metadata": {
    "scrolled": true
   },
   "outputs": [
    {
     "name": "stdout",
     "output_type": "stream",
     "text": [
      "========== print ===============\n",
      "[1.  0.5]\n",
      "[[0.1 0.3 0.5]\n",
      " [0.2 0.4 0.6]]\n",
      "[0.1 0.2 0.3]\n",
      "========== shape ===============\n",
      "(2,)\n",
      "(2, 3)\n",
      "(3,)\n",
      "=== calc next layer of A1\n",
      "[0.3 0.7 1.1]\n",
      "(3,)\n",
      "result of layer0 to layer1\n",
      "[0.3 0.7 1.1]\n",
      "[0.57444252 0.66818777 0.75026011]\n"
     ]
    }
   ],
   "source": [
    "##################################################\n",
    "# 3.4.2 各層における信号伝達の実装\n",
    "##################################################\n",
    "\n",
    "#テキストと値も一緒にして実装を体験してみる。やることは３層のネットワーク。\n",
    "#基本的には3.3.3で実装したのとほとんど変わらない（変わると言ったら、バイアスと活性化関数が噛んだだけ）\n",
    "\n",
    "#ネットワークの構造\n",
    "#入力層（第0層)：要素が2個(2つのニューロン)\n",
    "#隠れ層(第1層)：３つのニューロン\n",
    "#隠れ層(第2層)：2つのニューロン\n",
    "#出力層(第3層)：2つのニューロン(２つのニューロン)\n",
    "\n",
    "#####################################################################\n",
    "#入力層の準備および、第0層〜第1層の構築\n",
    "#####################################################################\n",
    "X  = np.array([1.0, 0.5]) #入力の要素は2個で少ない印象\n",
    "W1 = np.array([[0.1, 0.3, 0.5], [0.2, 0.4, 0.6]]) #重み\n",
    "B1 = np.array([0.1, 0.2, 0.3]) #バイアス\n",
    "\n",
    "print(\"========== print ===============\")\n",
    "print(X)\n",
    "print(W1)\n",
    "print(B1)\n",
    "print(\"========== shape ===============\")\n",
    "print(X.shape) #1行2列\n",
    "print(W1.shape) #2行3列\n",
    "print(B1.shape) #1行3列\n",
    "\n",
    "#次の層は以下の計算でも求める\n",
    "print(\"=== calc next layer of A1\")\n",
    "A1 = np.dot(X, W1) + B1 #簡単！\n",
    "\n",
    "print(A1)\n",
    "print(A1.shape)\n",
    "\n",
    "#第１層において、シグモイド関数をかます\n",
    "\n",
    "Z1 = sigmoid(A1)\n",
    "\n",
    "print(\"result of layer0 to layer1\")\n",
    "print(A1)\n",
    "print(Z1)\n",
    "\n"
   ]
  },
  {
   "cell_type": "code",
   "execution_count": 27,
   "metadata": {},
   "outputs": [
    {
     "name": "stdout",
     "output_type": "stream",
     "text": [
      "============ row data ===============\n",
      "[0.57444252 0.66818777 0.75026011]\n",
      "[[0.1 0.4]\n",
      " [0.2 0.5]\n",
      " [0.3 0.6]]\n",
      "[0.1 0.2]\n",
      "========== shape ============\n",
      "(3,)\n",
      "(3, 2)\n",
      "(2,)\n",
      "=== calc result of layer2\n",
      "[0.51615984 1.21402696]\n",
      "[0.62624937 0.7710107 ]\n",
      "(2,)\n"
     ]
    }
   ],
   "source": [
    "#####################################################################\n",
    "#第1層〜第2層の構築\n",
    "#####################################################################\n",
    "\n",
    "W2 = np.array([[0.1, 0.4], [0.2, 0.5], [0.3, 0.6]]) #第1層→第2層に至る重み\n",
    "B2 = np.array([0.1, 0.2]) #バイアス\n",
    "\n",
    "print(\"============ row data ===============\")\n",
    "print(Z1)\n",
    "print(W2)\n",
    "print(B2)\n",
    "print(\"========== shape ============\")\n",
    "print(Z1.shape)\n",
    "print(W2.shape)\n",
    "print(B2.shape)\n",
    "\n",
    "print(\"=== calc result of layer2\")\n",
    "A2 = np.dot(Z1, W2) + B2\n",
    "Z2 = sigmoid(A2)\n",
    "\n",
    "print(A2)\n",
    "print(Z2)\n",
    "\n",
    "print(Z2.shape)\n"
   ]
  },
  {
   "cell_type": "code",
   "execution_count": 28,
   "metadata": {},
   "outputs": [
    {
     "name": "stdout",
     "output_type": "stream",
     "text": [
      "=== neural network result === \n",
      "[0.31682708 0.69627909]\n"
     ]
    }
   ],
   "source": [
    "#####################################################################\n",
    "#第2層〜第3層の構築\n",
    "#####################################################################\n",
    "\n",
    "def identify_function(x):\n",
    "    return x\n",
    "\n",
    "W3 = np.array([[0.1, 0.3],[0.2, 0.4]])\n",
    "B3 = np.array([0.1, 0.2])\n",
    "\n",
    "A3 = np.dot(Z2, W3) + B3\n",
    "Y = identify_function(A3)\n",
    "\n",
    "print(\"=== neural network result === \")\n",
    "print(Y)\n"
   ]
  },
  {
   "cell_type": "code",
   "execution_count": null,
   "metadata": {},
   "outputs": [],
   "source": []
  }
 ],
 "metadata": {
  "kernelspec": {
   "display_name": "Python 3",
   "language": "python",
   "name": "python3"
  },
  "language_info": {
   "codemirror_mode": {
    "name": "ipython",
    "version": 3
   },
   "file_extension": ".py",
   "mimetype": "text/x-python",
   "name": "python",
   "nbconvert_exporter": "python",
   "pygments_lexer": "ipython3",
   "version": "3.8.5"
  }
 },
 "nbformat": 4,
 "nbformat_minor": 5
}
