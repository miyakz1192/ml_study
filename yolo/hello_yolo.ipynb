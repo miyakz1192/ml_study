{
 "cells": [
  {
   "cell_type": "markdown",
   "metadata": {},
   "source": [
    "# YOLOを試しに動かしてみるのまき"
   ]
  },
  {
   "cell_type": "markdown",
   "metadata": {},
   "source": [
    "    git clone https://github.com/WongKinYiu/yolov7.git\n",
    "    cd yolov7\n",
    "    sudo apt install python3-pip\n",
    "    pip install -r requirements.txt\n",
    "    "
   ]
  },
  {
   "cell_type": "markdown",
   "metadata": {},
   "source": [
    "    a@ai01:~/yolo_temp/yolov7$ python3 test.py --data data/coco.yaml --img 640 --batch 32 --conf 0.001 --iou 0.65 --device 0 --weights yolov7.pt --name yolov7_640_val\n",
    "    Namespace(augment=False, batch_size=32, conf_thres=0.001, data='data/coco.yaml', device='0', exist_ok=False, img_size=640, iou_thres=0.65, name='yolov7_640_val', no_trace=False, project='runs/test', save_conf=False, save_hybrid=False, save_json=True, save_txt=False, single_cls=False, task='val', v5_metric=False, verbose=False, weights=['yolov7.pt'])\n",
    "    Traceback (most recent call last):\n",
    "      File \"test.py\", line 319, in <module>\n",
    "        test(opt.data,\n",
    "      File \"test.py\", line 51, in test\n",
    "        device = select_device(opt.device, batch_size=batch_size)\n",
    "      File \"/home/a/yolo_temp/yolov7/utils/torch_utils.py\", line 71, in select_device\n",
    "        assert torch.cuda.is_available(), f'CUDA unavailable, invalid device {device} requested'  # check availability\n",
    "    AssertionError: CUDA unavailable, invalid device 0 requested\n",
    "    a@ai01:~/yolo_temp/yolov7$ \n",
    "    \n",
    "    sudo apt install nvidia-cuda-toolkit\n",
    "    \n",
    "    以下のＵＲＬを見て、ＣＵＤＡをインストールする\n",
    "    https://qiita.com/yukoba/items/c4a45435c6ee5d66706d"
   ]
  },
  {
   "cell_type": "markdown",
   "metadata": {},
   "source": [
    "# 参考URL\n",
    "https://www.fabrica-com.co.jp/techblog/technology/8332/\n",
    "https://farml1.com/yolov7/\n",
    "\n",
    "##以下が超簡単？\n",
    "https://human-blog.com/%E3%80%90%E3%82%BC%E3%83%AD%E3%81%8B%E3%82%89%E3%81%AE%E7%89%A9%E4%BD%93%E6%A4%9C%E5%87%BA%E3%80%912-python%E3%82%92%E3%82%A4%E3%83%B3%E3%82%B9%E3%83%88%E3%83%BC%E3%83%AB/"
   ]
  },
  {
   "cell_type": "code",
   "execution_count": 4,
   "metadata": {},
   "outputs": [
    {
     "name": "stdout",
     "output_type": "stream",
     "text": [
      "hello_yolo.ipynb  yolov7\n",
      "fatal: destination path 'yolov7' already exists and is not an empty directory.\n"
     ]
    }
   ],
   "source": [
    "!ls\n",
    "!git clone https://github.com/WongKinYiu/yolov7.git"
   ]
  },
  {
   "cell_type": "code",
   "execution_count": 8,
   "metadata": {},
   "outputs": [
    {
     "name": "stdout",
     "output_type": "stream",
     "text": [
      "cfg\tdetect.py  hubconf.py  models\t  requirements.txt  tools\t  utils\n",
      "data\texport.py  inference   paper\t  scripts\t    train_aux.py\n",
      "deploy\tfigure\t   LICENSE.md  README.md  test.py\t    train.py\n",
      "Traceback (most recent call last):\n",
      "  File \"test.py\", line 8, in <module>\n",
      "    import torch\n",
      "ModuleNotFoundError: No module named 'torch'\n"
     ]
    }
   ],
   "source": [
    "!cd yolov7;ls;python test.py --data data/coco.yaml --img 640 --batch 32 --conf 0.001 --iou 0.65 --device 0 --weights yolov7.pt --name yolov7_640_val"
   ]
  },
  {
   "cell_type": "code",
   "execution_count": null,
   "metadata": {},
   "outputs": [],
   "source": []
  }
 ],
 "metadata": {
  "kernelspec": {
   "display_name": "Python 3",
   "language": "python",
   "name": "python3"
  },
  "language_info": {
   "codemirror_mode": {
    "name": "ipython",
    "version": 3
   },
   "file_extension": ".py",
   "mimetype": "text/x-python",
   "name": "python",
   "nbconvert_exporter": "python",
   "pygments_lexer": "ipython3",
   "version": "3.8.5"
  }
 },
 "nbformat": 4,
 "nbformat_minor": 4
}
