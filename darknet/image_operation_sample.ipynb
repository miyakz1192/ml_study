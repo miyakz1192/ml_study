{
 "cells": [
  {
   "cell_type": "markdown",
   "id": "52079308-1e27-4b9d-b6ed-f7074f8d0028",
   "metadata": {},
   "source": [
    "# 空の(背景が白の)1080 x 2400の画像を作り、そこに、32 x 32のclose画像を埋め込んで見る実験コード"
   ]
  },
  {
   "cell_type": "code",
   "execution_count": 1,
   "id": "51c71d30-23a7-4a63-b494-1c19da6b3d7e",
   "metadata": {},
   "outputs": [
    {
     "name": "stderr",
     "output_type": "stream",
     "text": [
      "2022-11-15 15:00:37.138015: I tensorflow/core/platform/cpu_feature_guard.cc:193] This TensorFlow binary is optimized with oneAPI Deep Neural Network Library (oneDNN) to use the following CPU instructions in performance-critical operations:  AVX2 FMA\n",
      "To enable them in other operations, rebuild TensorFlow with the appropriate compiler flags.\n",
      "2022-11-15 15:00:37.282076: W tensorflow/stream_executor/platform/default/dso_loader.cc:64] Could not load dynamic library 'libcudart.so.11.0'; dlerror: libcudart.so.11.0: cannot open shared object file: No such file or directory\n",
      "2022-11-15 15:00:37.282111: I tensorflow/stream_executor/cuda/cudart_stub.cc:29] Ignore above cudart dlerror if you do not have a GPU set up on your machine.\n",
      "2022-11-15 15:00:37.313727: E tensorflow/stream_executor/cuda/cuda_blas.cc:2981] Unable to register cuBLAS factory: Attempting to register factory for plugin cuBLAS when one has already been registered\n",
      "2022-11-15 15:00:37.934396: W tensorflow/stream_executor/platform/default/dso_loader.cc:64] Could not load dynamic library 'libnvinfer.so.7'; dlerror: libnvinfer.so.7: cannot open shared object file: No such file or directory\n",
      "2022-11-15 15:00:37.941224: W tensorflow/stream_executor/platform/default/dso_loader.cc:64] Could not load dynamic library 'libnvinfer_plugin.so.7'; dlerror: libnvinfer_plugin.so.7: cannot open shared object file: No such file or directory\n",
      "2022-11-15 15:00:37.941238: W tensorflow/compiler/tf2tensorrt/utils/py_utils.cc:38] TF-TRT Warning: Cannot dlopen some TensorRT libraries. If you would like to use Nvidia GPU with TensorRT, please make sure the missing libraries mentioned above are installed properly.\n"
     ]
    }
   ],
   "source": [
    "import keras.utils.image_utils as image\n",
    "import numpy as np\n",
    "import matplotlib.pyplot as plt\n",
    "from keras.preprocessing.image import ImageDataGenerator \n",
    "from tensorflow.keras.utils import array_to_img\n",
    "\n",
    "\n",
    "\n",
    "#全体的な作戦としては、numpyのarray(2次元)を適当に作ってやって、それをimgに変換して、save_imgで書きだしてやれば完了な気がする。\n",
    "#あとは、以下のURLにやり方が書いてあるが、1080 x 2400の画像に32 x 32のcloseを貼り付ければ良いだけ。\n",
    "#https://note.nkmk.me/python-numpy-image-processing/\n"
   ]
  },
  {
   "cell_type": "code",
   "execution_count": 3,
   "id": "405cfc73-3122-4bf0-b82e-3111b06e4091",
   "metadata": {},
   "outputs": [
    {
     "name": "stdout",
     "output_type": "stream",
     "text": [
      "=============================================\n",
      "(2400, 1080, 3)\n"
     ]
    },
    {
     "data": {
      "image/png": "[encoded data removed]",
      "text/plain": [
       "<Figure size 100x100 with 1 Axes>"
      ]
     },
     "metadata": {},
     "output_type": "display_data"
    }
   ],
   "source": [
    "#まずは1080 x 2400の画像を生成する\n",
    "print(\"=============================================\")\n",
    "plt.figure(figsize = (1, 1))\n",
    "img = np.full((2400, 1080,3), 255)\n",
    "show_img = array_to_img(img, scale = False)\n",
    "image.save_img(\"/tmp/ahaha1.jpg\", show_img)\n",
    "plt.imshow(show_img)\n",
    "print(img.shape)\n"
   ]
  },
  {
   "cell_type": "code",
   "execution_count": 8,
   "id": "d6cf4a64-d410-453d-a327-b9baad795138",
   "metadata": {},
   "outputs": [
    {
     "name": "stdout",
     "output_type": "stream",
     "text": [
      "close shape\n",
      "(32, 32, 3)\n",
      "(2400, 1080, 3)\n"
     ]
    },
    {
     "data": {
      "image/png": "[encoded data removed]",
      "text/plain": [
       "<Figure size 640x480 with 1 Axes>"
      ]
     },
     "metadata": {},
     "output_type": "display_data"
    }
   ],
   "source": [
    "#次に試しにclose1.jpgを開いてみて、上記に貼り付けて、セーブしてみる\n",
    "close = image.load_img(\"../../close1.jpg\")\n",
    "#画像をnumpy配列に変換する\n",
    "close = np.array(close)\n",
    "print(\"close shape\")\n",
    "print(close.shape)\n",
    "\n",
    "#矩形はりつけ\n",
    "img[0:32,0:32] = close[0:32,0:32]\n",
    "show_img = array_to_img(img, scale = False)\n",
    "image.save_img(\"/tmp/ahaha2.jpg\", show_img)\n",
    "plt.imshow(show_img)\n",
    "print(img.shape)\n",
    "\n",
    "#これで貼り付けができた！"
   ]
  },
  {
   "cell_type": "code",
   "execution_count": null,
   "id": "d1fdf0e2-9766-46ff-95b0-feeee0b6abde",
   "metadata": {},
   "outputs": [],
   "source": []
  }
 ],
 "metadata": {
  "kernelspec": {
   "display_name": "Python 3 (ipykernel)",
   "language": "python",
   "name": "python3"
  },
  "language_info": {
   "codemirror_mode": {
    "name": "ipython",
    "version": 3
   },
   "file_extension": ".py",
   "mimetype": "text/x-python",
   "name": "python",
   "nbconvert_exporter": "python",
   "pygments_lexer": "ipython3",
   "version": "3.8.10"
  }
 },
 "nbformat": 4,
 "nbformat_minor": 5
}
