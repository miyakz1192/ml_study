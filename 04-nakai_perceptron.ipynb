{
 "cells": [
  {
   "cell_type": "markdown",
   "metadata": {
    "colab_type": "text",
    "id": "bHS4SqUZ12bp"
   },
   "source": [
    "# 第4章 パーセプトロン：分類アルゴリズムの基礎(自習編集用）"
   ]
  },
  {
   "cell_type": "markdown",
   "metadata": {
    "colab_type": "text",
    "id": "ZN6P82Xs12bq"
   },
   "source": [
    "## 「04-perceptron」の解説"
   ]
  },
  {
   "cell_type": "markdown",
   "metadata": {
    "colab_type": "text",
    "id": "mtls8NrD12bs"
   },
   "source": [
    "ITエンジニアための機械学習理論入門「第4章 パーセプトロン:分類アルゴリズムの基礎」で使用しているサンプルコード「04-perceptron.py」の解説です。\n",
    "\n",
    "※ 解説用にコードの内容は少し変更しています。"
   ]
  },
  {
   "cell_type": "markdown",
   "metadata": {
    "colab_type": "text",
    "id": "E9BNZd4e12bt"
   },
   "source": [
    "### 分類が容易なトレーニングセットの場合"
   ]
  },
  {
   "cell_type": "markdown",
   "metadata": {
    "colab_type": "text",
    "id": "vYmC2MlS12bu"
   },
   "source": [
    "はじめに必要なモジュールをインポートしておきます。\n",
    "\n",
    "関数 multivariate_normal は、多次元の正規分布に従う乱数を生成するために利用します。"
   ]
  },
  {
   "cell_type": "code",
   "execution_count": 1,
   "metadata": {
    "colab": {},
    "colab_type": "code",
    "id": "iLEqO8eY12bu"
   },
   "outputs": [],
   "source": [
    "import numpy as np\n",
    "import matplotlib.pyplot as plt\n",
    "import pandas as pd\n",
    "from pandas import Series, DataFrame\n",
    "\n",
    "from numpy.random import multivariate_normal\n",
    "\n",
    "import matplotlib\n",
    "matplotlib.rcParams['font.size'] = 12"
   ]
  },
  {
   "cell_type": "markdown",
   "metadata": {
    "colab_type": "text",
    "id": "1rPrUkeT12bz"
   },
   "source": [
    "トレーニング用データを生成する関数を用意します。\n",
    "\n",
    "平面上の○☓の2種類のデータについて、それぞれの「個数、中心座標、分散」を引数で指定します。"
   ]
  },
  {
   "cell_type": "code",
   "execution_count": 2,
   "metadata": {
    "colab": {},
    "colab_type": "code",
    "id": "nh1r92X012b1"
   },
   "outputs": [],
   "source": [
    "def prepare_dataset(n1, mu1, variance1, n2, mu2, variance2):\n",
    "    df1 = DataFrame(multivariate_normal(mu1, np.eye(2)*variance1 ,n1),\n",
    "                    columns=['x', 'y'])\n",
    "    df1['type'] = 1\n",
    "    df2 = DataFrame(multivariate_normal(mu2, np.eye(2)*variance2, n2),\n",
    "                    columns=['x', 'y'])\n",
    "    df2['type'] = -1\n",
    "    df = pd.concat([df1, df2], ignore_index=True)\n",
    "    #連結したデータをランダムに構成する。\n",
    "    df = df.reindex(np.random.permutation(df.index)).reset_index(drop=True)\n",
    "    return df"
   ]
  },
  {
   "cell_type": "markdown",
   "metadata": {
    "colab_type": "text",
    "id": "4W0RKhH512b4"
   },
   "source": [
    "実際にデータを作成します。"
   ]
  },
  {
   "cell_type": "code",
   "execution_count": 3,
   "metadata": {
    "colab": {},
    "colab_type": "code",
    "id": "KnJfaALD12b5"
   },
   "outputs": [],
   "source": [
    "train_set = prepare_dataset(20, [15, 10], 15, 30, [0, 0], 15)"
   ]
  },
  {
   "cell_type": "markdown",
   "metadata": {
    "colab_type": "text",
    "id": "FmFSH8gm12b9"
   },
   "source": [
    "先頭から10個分のデータを確認してみます。\n",
    "\n",
    "type=±1 がデータの種類に対応します。"
   ]
  },
  {
   "cell_type": "code",
   "execution_count": 4,
   "metadata": {
    "colab": {
     "base_uri": "https://localhost:8080/",
     "height": 359
    },
    "colab_type": "code",
    "executionInfo": {
     "elapsed": 1013,
     "status": "ok",
     "timestamp": 1587541645768,
     "user": {
      "displayName": "Etsuji Nakai",
      "photoUrl": "https://lh3.googleusercontent.com/a-/AOh14GhetRRD1sS-9biTr-QKIKpeab3l7NjR8gRdtuQWcg=s64",
      "userId": "13606123633698401153"
     },
     "user_tz": -540
    },
    "id": "Mg4fWwRW12b9",
    "outputId": "0f8f47a3-1ba9-4791-d60e-27863bb770ea"
   },
   "outputs": [
    {
     "data": {
      "text/html": [
       "<div>\n",
       "<style scoped>\n",
       "    .dataframe tbody tr th:only-of-type {\n",
       "        vertical-align: middle;\n",
       "    }\n",
       "\n",
       "    .dataframe tbody tr th {\n",
       "        vertical-align: top;\n",
       "    }\n",
       "\n",
       "    .dataframe thead th {\n",
       "        text-align: right;\n",
       "    }\n",
       "</style>\n",
       "<table border=\"1\" class=\"dataframe\">\n",
       "  <thead>\n",
       "    <tr style=\"text-align: right;\">\n",
       "      <th></th>\n",
       "      <th>x</th>\n",
       "      <th>y</th>\n",
       "      <th>type</th>\n",
       "    </tr>\n",
       "  </thead>\n",
       "  <tbody>\n",
       "    <tr>\n",
       "      <th>0</th>\n",
       "      <td>-0.279421</td>\n",
       "      <td>2.103254</td>\n",
       "      <td>-1</td>\n",
       "    </tr>\n",
       "    <tr>\n",
       "      <th>1</th>\n",
       "      <td>1.554917</td>\n",
       "      <td>-1.441692</td>\n",
       "      <td>-1</td>\n",
       "    </tr>\n",
       "    <tr>\n",
       "      <th>2</th>\n",
       "      <td>7.589881</td>\n",
       "      <td>10.536645</td>\n",
       "      <td>1</td>\n",
       "    </tr>\n",
       "    <tr>\n",
       "      <th>3</th>\n",
       "      <td>2.079500</td>\n",
       "      <td>4.147165</td>\n",
       "      <td>-1</td>\n",
       "    </tr>\n",
       "    <tr>\n",
       "      <th>4</th>\n",
       "      <td>15.157940</td>\n",
       "      <td>2.672142</td>\n",
       "      <td>1</td>\n",
       "    </tr>\n",
       "    <tr>\n",
       "      <th>5</th>\n",
       "      <td>0.462412</td>\n",
       "      <td>0.545431</td>\n",
       "      <td>-1</td>\n",
       "    </tr>\n",
       "    <tr>\n",
       "      <th>6</th>\n",
       "      <td>12.204407</td>\n",
       "      <td>12.069356</td>\n",
       "      <td>1</td>\n",
       "    </tr>\n",
       "    <tr>\n",
       "      <th>7</th>\n",
       "      <td>16.583271</td>\n",
       "      <td>10.113234</td>\n",
       "      <td>1</td>\n",
       "    </tr>\n",
       "    <tr>\n",
       "      <th>8</th>\n",
       "      <td>17.020441</td>\n",
       "      <td>12.716268</td>\n",
       "      <td>1</td>\n",
       "    </tr>\n",
       "    <tr>\n",
       "      <th>9</th>\n",
       "      <td>-1.135437</td>\n",
       "      <td>-4.229674</td>\n",
       "      <td>-1</td>\n",
       "    </tr>\n",
       "  </tbody>\n",
       "</table>\n",
       "</div>"
      ],
      "text/plain": [
       "           x          y  type\n",
       "0  -0.279421   2.103254    -1\n",
       "1   1.554917  -1.441692    -1\n",
       "2   7.589881  10.536645     1\n",
       "3   2.079500   4.147165    -1\n",
       "4  15.157940   2.672142     1\n",
       "5   0.462412   0.545431    -1\n",
       "6  12.204407  12.069356     1\n",
       "7  16.583271  10.113234     1\n",
       "8  17.020441  12.716268     1\n",
       "9  -1.135437  -4.229674    -1"
      ]
     },
     "execution_count": 4,
     "metadata": {},
     "output_type": "execute_result"
    }
   ],
   "source": [
    "train_set[:10]"
   ]
  },
  {
   "cell_type": "markdown",
   "metadata": {
    "colab_type": "text",
    "id": "5sNzPM7C12cD"
   },
   "source": [
    "パーセプトロンによる分類を実施する関数を用意します。\n",
    "\n",
    "生成したトレーニングセットを引数で渡すと、30回のIterationを実施した後に、この間のパラメーターの変化を記録したリストと最終的な誤分類率を返します。"
   ]
  },
  {
   "cell_type": "markdown",
   "metadata": {},
   "source": [
    "以下、コード内にパーセプトロンのアルゴリズムの補足をコメントで補足していく。"
   ]
  },
  {
   "cell_type": "code",
   "execution_count": 5,
   "metadata": {
    "colab": {},
    "colab_type": "code",
    "id": "bfpHyFPs12cF"
   },
   "outputs": [],
   "source": [
    "def run_train(train_set):\n",
    "    # パラメータの初期値とbias項の設定\n",
    "    #最初、ベクトルwの初期値は一旦0にしておく。\n",
    "    w0 = w1 = w2 = 0.0\n",
    "    #bias項を計算xとyの平均値を設定する。xの平均とyの平均を足しているので、最終的にそれを1/2して全体の平均とする。\n",
    "    bias = 0.5 * (train_set.x.abs().mean() + train_set.y.abs().mean())\n",
    "\n",
    "    # Iterationを実施\n",
    "    paramhist = DataFrame([[w0, w1, w2]], columns=['w0', 'w1', 'w2'])\n",
    "    for i in range(30):\n",
    "        for index, point in train_set.iterrows():\n",
    "            x, y, type = point.x, point.y, point.type\n",
    "            #以下の計算が０以下であれば、間違った分類となる。一応、０も間違った分類とする様子\n",
    "            #データセット(t,x,y)について、f(x,y)の計算結果が以下の場合\n",
    "            #\n",
    "            #以下の組み合わせのため、(w0*bias + w1*x + w2*y) の計算結果が0以下であれば、間違った分類となる。\n",
    "            #データセット　：f(x,y)の計算結果：t * f(x,y)　　　　\n",
    "            #(t(正), x, y) ：f(x,y)の結果が正：t(正) * f(x,y)＝正→　データセットは正しく分類\n",
    "            #(t(正), x, y) ：f(x,y)の結果が負：t(正) * f(x,y)＝負→　データセットは間違って分類\n",
    "            #(t(負), x, y) ：f(x,y)の結果が正：t(負) * f(x,y)＝負→　データセットは間違って分類\n",
    "            #(t(負), x, y) ：f(x,y)の結果が負：t(負) * f(x,y)＝正→　データセットは正しく分類\n",
    "            if type * (w0*bias + w1*x + w2*y) <= 0:\n",
    "                w0 += type * bias\n",
    "                w1 += type * x\n",
    "                w2 += type * y\n",
    "        paramhist = paramhist.append(Series([w0, w1, w2], ['w0', 'w1', 'w2']),\n",
    "                                     ignore_index=True)\n",
    "    \n",
    "    # 判定誤差の計算\n",
    "    err = 0.0\n",
    "    for index, point in train_set.iterrows():\n",
    "        x, y, type = point.x, point.y, point.type\n",
    "        if type * (w0*bias + w1*x + w2*y) <= 0:\n",
    "            err += 1\n",
    "    err_rate = err * 100 / len(train_set)\n",
    "    \n",
    "    return paramhist, err_rate"
   ]
  },
  {
   "cell_type": "markdown",
   "metadata": {
    "colab_type": "text",
    "id": "l0MDtg7R12cJ"
   },
   "source": [
    "トレーニングを実施します。"
   ]
  },
  {
   "cell_type": "code",
   "execution_count": 6,
   "metadata": {
    "colab": {},
    "colab_type": "code",
    "id": "KXar1r_912cK"
   },
   "outputs": [],
   "source": [
    "paramhist, err_rate = run_train(train_set)"
   ]
  },
  {
   "cell_type": "markdown",
   "metadata": {
    "colab_type": "text",
    "id": "Hs3PjWme12cR"
   },
   "source": [
    "パラメーターの変化の先頭部分を確認してみます。"
   ]
  },
  {
   "cell_type": "code",
   "execution_count": 7,
   "metadata": {
    "colab": {
     "base_uri": "https://localhost:8080/",
     "height": 204
    },
    "colab_type": "code",
    "executionInfo": {
     "elapsed": 1367,
     "status": "ok",
     "timestamp": 1587541646154,
     "user": {
      "displayName": "Etsuji Nakai",
      "photoUrl": "https://lh3.googleusercontent.com/a-/AOh14GhetRRD1sS-9biTr-QKIKpeab3l7NjR8gRdtuQWcg=s64",
      "userId": "13606123633698401153"
     },
     "user_tz": -540
    },
    "id": "eMeJurnc12cS",
    "outputId": "f0915558-f19d-47bb-84e4-b48e1ec7d755"
   },
   "outputs": [
    {
     "data": {
      "text/html": [
       "<div>\n",
       "<style scoped>\n",
       "    .dataframe tbody tr th:only-of-type {\n",
       "        vertical-align: middle;\n",
       "    }\n",
       "\n",
       "    .dataframe tbody tr th {\n",
       "        vertical-align: top;\n",
       "    }\n",
       "\n",
       "    .dataframe thead th {\n",
       "        text-align: right;\n",
       "    }\n",
       "</style>\n",
       "<table border=\"1\" class=\"dataframe\">\n",
       "  <thead>\n",
       "    <tr style=\"text-align: right;\">\n",
       "      <th></th>\n",
       "      <th>w0</th>\n",
       "      <th>w1</th>\n",
       "      <th>w2</th>\n",
       "    </tr>\n",
       "  </thead>\n",
       "  <tbody>\n",
       "    <tr>\n",
       "      <th>0</th>\n",
       "      <td>0.000000</td>\n",
       "      <td>0.000000</td>\n",
       "      <td>0.000000</td>\n",
       "    </tr>\n",
       "    <tr>\n",
       "      <th>1</th>\n",
       "      <td>-13.136032</td>\n",
       "      <td>6.689983</td>\n",
       "      <td>9.652645</td>\n",
       "    </tr>\n",
       "    <tr>\n",
       "      <th>2</th>\n",
       "      <td>-19.704048</td>\n",
       "      <td>25.017756</td>\n",
       "      <td>16.125505</td>\n",
       "    </tr>\n",
       "    <tr>\n",
       "      <th>3</th>\n",
       "      <td>-32.840080</td>\n",
       "      <td>13.765101</td>\n",
       "      <td>10.042240</td>\n",
       "    </tr>\n",
       "    <tr>\n",
       "      <th>4</th>\n",
       "      <td>-32.840080</td>\n",
       "      <td>19.531760</td>\n",
       "      <td>12.019287</td>\n",
       "    </tr>\n",
       "  </tbody>\n",
       "</table>\n",
       "</div>"
      ],
      "text/plain": [
       "          w0         w1         w2\n",
       "0   0.000000   0.000000   0.000000\n",
       "1 -13.136032   6.689983   9.652645\n",
       "2 -19.704048  25.017756  16.125505\n",
       "3 -32.840080  13.765101  10.042240\n",
       "4 -32.840080  19.531760  12.019287"
      ]
     },
     "execution_count": 7,
     "metadata": {},
     "output_type": "execute_result"
    }
   ],
   "source": [
    "paramhist[:5]"
   ]
  },
  {
   "cell_type": "markdown",
   "metadata": {
    "colab_type": "text",
    "id": "WS-NU7BT12cW"
   },
   "source": [
    "分類結果をグラフに可視化する関数を用意します。"
   ]
  },
  {
   "cell_type": "code",
   "execution_count": 8,
   "metadata": {
    "colab": {},
    "colab_type": "code",
    "id": "a7O4Q7au12cX"
   },
   "outputs": [],
   "source": [
    "# 結果の表示\n",
    "def show_result(subplot, train_set, w0, w1, w2, err_rate):\n",
    "    train_set1 = train_set[train_set['type']==1]\n",
    "    train_set2 = train_set[train_set['type']==-1]\n",
    "    bias = 0.5 * (train_set.x.abs().mean() + train_set.y.abs().mean())\n",
    "    ymin, ymax = train_set.y.min()-5, train_set.y.max()+10\n",
    "    xmin, xmax = train_set.x.min()-5, train_set.x.max()+10\n",
    "\n",
    "    subplot.set_ylim([ymin-1, ymax+1])\n",
    "    subplot.set_xlim([xmin-1, xmax+1])\n",
    "    subplot.scatter(train_set1.x, train_set1.y, marker='o', label=None)\n",
    "    subplot.scatter(train_set2.x, train_set2.y, marker='x', label=None)\n",
    "\n",
    "    linex = np.arange(xmin-5, xmax+5)\n",
    "    liney = - linex * w1 / w2 - bias * w0 / w2 #w0*bias + w1x + w2y = 0 より y = - (w1/w2)*x - (bias*w0)/w2 \n",
    "    label = \"ERR %.2f%%\" % err_rate\n",
    "    subplot.plot(linex, liney, label=label, color='red')\n",
    "    subplot.legend(loc=1)"
   ]
  },
  {
   "cell_type": "markdown",
   "metadata": {
    "colab_type": "text",
    "id": "zZe7ea-G12ca"
   },
   "source": [
    "分類結果をグラフに表示してみます。"
   ]
  },
  {
   "cell_type": "code",
   "execution_count": 9,
   "metadata": {
    "colab": {
     "base_uri": "https://localhost:8080/",
     "height": 431
    },
    "colab_type": "code",
    "executionInfo": {
     "elapsed": 1832,
     "status": "ok",
     "timestamp": 1587541646714,
     "user": {
      "displayName": "Etsuji Nakai",
      "photoUrl": "https://lh3.googleusercontent.com/a-/AOh14GhetRRD1sS-9biTr-QKIKpeab3l7NjR8gRdtuQWcg=s64",
      "userId": "13606123633698401153"
     },
     "user_tz": -540
    },
    "id": "Hun5Zc7W12cc",
    "outputId": "234c878b-8787-47a0-d0ca-fc8ec9626d60"
   },
   "outputs": [
    {
     "data": {
      "image/png": "[encoded data removed]",
      "text/plain": [
       "<Figure size 504x504 with 1 Axes>"
      ]
     },
     "metadata": {
      "needs_background": "light"
     },
     "output_type": "display_data"
    }
   ],
   "source": [
    "fig = plt.figure(figsize=(7, 7))\n",
    "subplot = fig.add_subplot(1, 1, 1)\n",
    "#学習結果のうち、一番最後の学習結果を選択する（一番良い結果）\n",
    "params = paramhist[-1:]\n",
    "w0, w1, w2 = float(params.w0), float(params.w1), float(params.w2)\n",
    "show_result(subplot, train_set, w0, w1, w2, err_rate)"
   ]
  },
  {
   "cell_type": "markdown",
   "metadata": {
    "colab_type": "text",
    "id": "LNBk8pZg12ci"
   },
   "source": [
    "同じくパラメーターの変化の様子をグラフに表示します。"
   ]
  },
  {
   "cell_type": "code",
   "execution_count": 10,
   "metadata": {
    "colab": {
     "base_uri": "https://localhost:8080/",
     "height": 394
    },
    "colab_type": "code",
    "executionInfo": {
     "elapsed": 1804,
     "status": "ok",
     "timestamp": 1587541646716,
     "user": {
      "displayName": "Etsuji Nakai",
      "photoUrl": "https://lh3.googleusercontent.com/a-/AOh14GhetRRD1sS-9biTr-QKIKpeab3l7NjR8gRdtuQWcg=s64",
      "userId": "13606123633698401153"
     },
     "user_tz": -540
    },
    "id": "Bkc3mdrT12ci",
    "outputId": "3ffee1fb-cbff-4ca7-a1e7-e606a2b6071c"
   },
   "outputs": [
    {
     "data": {
      "text/plain": [
       "<matplotlib.legend.Legend at 0x7fa3608ca9a0>"
      ]
     },
     "execution_count": 10,
     "metadata": {},
     "output_type": "execute_result"
    },
    {
     "data": {
      "image/png": "[encoded data removed]",
      "text/plain": [
       "<Figure size 576x432 with 1 Axes>"
      ]
     },
     "metadata": {
      "needs_background": "light"
     },
     "output_type": "display_data"
    }
   ],
   "source": [
    "paramhist.plot(figsize=(8, 6)).legend(loc=1)"
   ]
  },
  {
   "cell_type": "markdown",
   "metadata": {
    "colab_type": "text",
    "id": "IyG3tWSI12cn"
   },
   "source": [
    "### 分類が困難なトレーニングセットの場合"
   ]
  },
  {
   "cell_type": "markdown",
   "metadata": {
    "colab_type": "text",
    "id": "T30K3KAn12cn"
   },
   "source": [
    "先程よりも分散が大きく、分類な困難なトレーニングセットを用意します。"
   ]
  },
  {
   "cell_type": "code",
   "execution_count": 11,
   "metadata": {
    "colab": {},
    "colab_type": "code",
    "id": "lVZY9UX712co"
   },
   "outputs": [],
   "source": [
    "train_set = prepare_dataset(20, [15,10], 30, 30, [0,0], 30)"
   ]
  },
  {
   "cell_type": "markdown",
   "metadata": {
    "colab_type": "text",
    "id": "c59RU3VR12cr"
   },
   "source": [
    "トレーニングを実施して、結果をグラフに表示します。"
   ]
  },
  {
   "cell_type": "code",
   "execution_count": 12,
   "metadata": {
    "colab": {
     "base_uri": "https://localhost:8080/",
     "height": 431
    },
    "colab_type": "code",
    "executionInfo": {
     "elapsed": 2203,
     "status": "ok",
     "timestamp": 1587541647159,
     "user": {
      "displayName": "Etsuji Nakai",
      "photoUrl": "https://lh3.googleusercontent.com/a-/AOh14GhetRRD1sS-9biTr-QKIKpeab3l7NjR8gRdtuQWcg=s64",
      "userId": "13606123633698401153"
     },
     "user_tz": -540
    },
    "id": "7iTKMzNP12cr",
    "outputId": "ed3b4584-8dd5-4de3-ad8a-0fda741e8b69"
   },
   "outputs": [
    {
     "data": {
      "image/png": "[encoded data removed]",
      "text/plain": [
       "<Figure size 504x504 with 1 Axes>"
      ]
     },
     "metadata": {
      "needs_background": "light"
     },
     "output_type": "display_data"
    }
   ],
   "source": [
    "paramhist, err_rate = run_train(train_set)\n",
    "fig = plt.figure(figsize=(7, 7))\n",
    "subplot = fig.add_subplot(1, 1, 1)\n",
    "params = paramhist[-1:]\n",
    "w0, w1, w2 = float(params.w0), float(params.w1), float(params.w2)\n",
    "show_result(subplot, train_set, w0, w1, w2, err_rate)"
   ]
  },
  {
   "cell_type": "markdown",
   "metadata": {
    "colab_type": "text",
    "id": "IFihtv_q12cw"
   },
   "source": [
    "同じく、パラメーターの変化をグラフに表示します。"
   ]
  },
  {
   "cell_type": "code",
   "execution_count": 13,
   "metadata": {
    "colab": {
     "base_uri": "https://localhost:8080/",
     "height": 394
    },
    "colab_type": "code",
    "executionInfo": {
     "elapsed": 2763,
     "status": "ok",
     "timestamp": 1587541647737,
     "user": {
      "displayName": "Etsuji Nakai",
      "photoUrl": "https://lh3.googleusercontent.com/a-/AOh14GhetRRD1sS-9biTr-QKIKpeab3l7NjR8gRdtuQWcg=s64",
      "userId": "13606123633698401153"
     },
     "user_tz": -540
    },
    "id": "CDmIFziR12cx",
    "outputId": "8d16079c-6646-4014-ddb2-aa52cd46bbb6"
   },
   "outputs": [
    {
     "data": {
      "text/plain": [
       "<matplotlib.legend.Legend at 0x7fa35f65fdf0>"
      ]
     },
     "execution_count": 13,
     "metadata": {},
     "output_type": "execute_result"
    },
    {
     "data": {
      "image/png": "[encoded data removed]",
      "text/plain": [
       "<Figure size 576x432 with 1 Axes>"
      ]
     },
     "metadata": {
      "needs_background": "light"
     },
     "output_type": "display_data"
    }
   ],
   "source": [
    "paramhist.plot(figsize=(8, 6)).legend(loc=1)"
   ]
  }
 ],
 "metadata": {
  "colab": {
   "collapsed_sections": [],
   "name": "04-perceptron.ipynb",
   "provenance": []
  },
  "kernelspec": {
   "display_name": "Python 3",
   "language": "python",
   "name": "python3"
  },
  "language_info": {
   "codemirror_mode": {
    "name": "ipython",
    "version": 3
   },
   "file_extension": ".py",
   "mimetype": "text/x-python",
   "name": "python",
   "nbconvert_exporter": "python",
   "pygments_lexer": "ipython3",
   "version": "3.8.5"
  }
 },
 "nbformat": 4,
 "nbformat_minor": 1
}
