{
 "cells": [
  {
   "cell_type": "code",
   "execution_count": 1,
   "metadata": {},
   "outputs": [],
   "source": [
    "import numpy as np\n",
    "import matplotlib.pyplot as plt\n",
    "import pandas as pd\n",
    "from pandas import Series, DataFrame\n",
    "\n",
    "from numpy.random import multivariate_normal\n",
    "\n",
    "import matplotlib\n",
    "matplotlib.rcParams['font.size'] = 12"
   ]
  },
  {
   "cell_type": "markdown",
   "metadata": {},
   "source": [
    "numpyなどの練習。eye関数は単位行列を生成する。"
   ]
  },
  {
   "cell_type": "code",
   "execution_count": 2,
   "metadata": {},
   "outputs": [
    {
     "name": "stdout",
     "output_type": "stream",
     "text": [
      "[[1. 0. 0.]\n",
      " [0. 1. 0.]\n",
      " [0. 0. 1.]]\n"
     ]
    }
   ],
   "source": [
    "#### numpy ###\n",
    "#eye関数は単位行列Ｅを生成する。\n",
    "#引数：行列のサイズ。\n",
    "print(np.eye(3))"
   ]
  },
  {
   "cell_type": "markdown",
   "metadata": {},
   "source": [
    "multivariate_normal。多次元の正規分布に従う乱数を生成。\n",
    "https://docs.scipy.org/doc/numpy-1.16.1/reference/generated/numpy.random.multivariate_normal.html"
   ]
  },
  {
   "cell_type": "code",
   "execution_count": 3,
   "metadata": {},
   "outputs": [
    {
     "name": "stdout",
     "output_type": "stream",
     "text": [
      "[[15.24170719  9.71803502]\n",
      " [19.16039514  8.79845559]\n",
      " [26.60379945  8.08997485]\n",
      " [16.03469136  9.37314164]\n",
      " [14.5468586  11.73330464]\n",
      " [12.86576129 10.45315275]\n",
      " [11.84789672  7.34542437]\n",
      " [14.26781662 11.42330732]\n",
      " [12.8900002  13.00673606]\n",
      " [10.52203461 15.84458493]\n",
      " [20.94572814 12.65908156]\n",
      " [13.05773492  8.62968997]\n",
      " [14.09199125 13.34424977]\n",
      " [17.61535182 15.78112442]\n",
      " [13.55142558 14.53161537]\n",
      " [15.13947984 13.19730039]\n",
      " [12.06991933  5.96955628]\n",
      " [10.10379146  9.17454215]\n",
      " [15.41150637  9.21805871]\n",
      " [11.45226521 13.38775857]]\n"
     ]
    }
   ],
   "source": [
    "### multivariate_normal ###\n",
    "mu1 = [15, 10] #平均\n",
    "n1 = 20 #サイズ\n",
    "variance1 = 15 #分散共分散行列に与える分散値\n",
    "print(multivariate_normal(mu1, np.eye(2)*variance1 ,n1))"
   ]
  },
  {
   "cell_type": "markdown",
   "metadata": {},
   "source": [
    "DataFrameの練習"
   ]
  },
  {
   "cell_type": "code",
   "execution_count": 4,
   "metadata": {},
   "outputs": [
    {
     "data": {
      "text/plain": [
       "<matplotlib.collections.PathCollection at 0x7fab2fde4e50>"
      ]
     },
     "execution_count": 4,
     "metadata": {},
     "output_type": "execute_result"
    },
    {
     "data": {
      "image/png": "[encoded data removed]",
      "text/plain": [
       "<Figure size 432x288 with 1 Axes>"
      ]
     },
     "metadata": {
      "needs_background": "light"
     },
     "output_type": "display_data"
    }
   ],
   "source": [
    "### DataFrame ###\n",
    "df1 = DataFrame(multivariate_normal(mu1, np.eye(2)*variance1 ,n1),\n",
    "                columns=['x', 'y'])\n",
    "df1['type'] = 1\n",
    "plt.scatter(df1.x, df1.y, marker='o', color='blue')"
   ]
  },
  {
   "cell_type": "markdown",
   "metadata": {},
   "source": [
    "typeをDataFrameに設定することで、そのデータフレームの各データSeriesにtypeを設定することができるらしい。"
   ]
  },
  {
   "cell_type": "code",
   "execution_count": 5,
   "metadata": {},
   "outputs": [
    {
     "name": "stdout",
     "output_type": "stream",
     "text": [
      "===DATA FRAME===\n",
      "            x          y  type\n",
      "0   14.837206   9.509845     1\n",
      "1   15.776260  12.939658     1\n",
      "2   15.482256  10.486099     1\n",
      "3   14.222965   4.879867     1\n",
      "4   12.847337  10.251929     1\n",
      "5   15.071796   3.544818     1\n",
      "6   15.540506   5.426214     1\n",
      "7   14.256795   7.878699     1\n",
      "8   11.961200  13.817285     1\n",
      "9   15.269716   8.241836     1\n",
      "10  14.254881   5.881459     1\n",
      "11  16.307052   7.603929     1\n",
      "12  12.858648   1.805072     1\n",
      "13  10.618514   8.776042     1\n",
      "14  14.729935  16.189091     1\n",
      "15  13.366963   3.524646     1\n",
      "16  11.166265   8.339177     1\n",
      "17  17.954169  14.269453     1\n",
      "18  16.142123   8.748504     1\n",
      "19  12.967172   9.523190     1\n"
     ]
    }
   ],
   "source": [
    "print(\"===DATA FRAME===\")\n",
    "print(df1) #各データとともにtypeも表示される"
   ]
  },
  {
   "cell_type": "markdown",
   "metadata": {},
   "source": [
    "DataFrameの要素へのアクセス"
   ]
  },
  {
   "cell_type": "code",
   "execution_count": 6,
   "metadata": {},
   "outputs": [
    {
     "name": "stdout",
     "output_type": "stream",
     "text": [
      "==DATA== 0\n",
      "14.837206483102628\n",
      "==DATA== 1\n",
      "15.776259653318148\n",
      "==DATA== 2\n",
      "15.482255513335136\n",
      "==DATA== 3\n",
      "14.222964702203495\n",
      "==DATA== 4\n",
      "12.847336503420262\n",
      "==DATA== 5\n",
      "15.071795888493671\n",
      "==DATA== 6\n",
      "15.540506112133825\n",
      "==DATA== 7\n",
      "14.256795019879084\n",
      "==DATA== 8\n",
      "11.961200462592497\n",
      "==DATA== 9\n",
      "15.269715526380278\n",
      "==DATA== 10\n",
      "14.254880573266218\n",
      "==DATA== 11\n",
      "16.30705249323322\n",
      "==DATA== 12\n",
      "12.858648166840242\n",
      "==DATA== 13\n",
      "10.618514482796147\n",
      "==DATA== 14\n",
      "14.729934883943447\n",
      "==DATA== 15\n",
      "13.366963111101256\n",
      "==DATA== 16\n",
      "11.166264718577736\n",
      "==DATA== 17\n",
      "17.954168810031714\n",
      "==DATA== 18\n",
      "16.14212314771042\n",
      "==DATA== 19\n",
      "12.967172407454097\n"
     ]
    }
   ],
   "source": [
    "n = 0\n",
    "for i in df1.x:\n",
    "    print(\"==DATA==\",n)\n",
    "    print(i)\n",
    "    n += 1"
   ]
  },
  {
   "cell_type": "markdown",
   "metadata": {},
   "source": [
    "DataFrameの連結"
   ]
  },
  {
   "cell_type": "code",
   "execution_count": 7,
   "metadata": {},
   "outputs": [
    {
     "name": "stdout",
     "output_type": "stream",
     "text": [
      "            x          y  type\n",
      "0   14.837206   9.509845     1\n",
      "1   15.776260  12.939658     1\n",
      "2   15.482256  10.486099     1\n",
      "3   14.222965   4.879867     1\n",
      "4   12.847337  10.251929     1\n",
      "5   15.071796   3.544818     1\n",
      "6   15.540506   5.426214     1\n",
      "7   14.256795   7.878699     1\n",
      "8   11.961200  13.817285     1\n",
      "9   15.269716   8.241836     1\n",
      "10  14.254881   5.881459     1\n",
      "11  16.307052   7.603929     1\n",
      "12  12.858648   1.805072     1\n",
      "13  10.618514   8.776042     1\n",
      "14  14.729935  16.189091     1\n",
      "15  13.366963   3.524646     1\n",
      "16  11.166265   8.339177     1\n",
      "17  17.954169  14.269453     1\n",
      "18  16.142123   8.748504     1\n",
      "19  12.967172   9.523190     1\n",
      "20  -0.741854   2.006177    -1\n",
      "21   3.726690   4.219614    -1\n",
      "22   0.844524   3.437905    -1\n",
      "23   0.030696  -0.297472    -1\n",
      "24   3.066281  -1.283459    -1\n",
      "25   2.976235  -8.488580    -1\n",
      "26  -4.101386  -0.793047    -1\n",
      "27  14.090389  -1.496272    -1\n",
      "28   0.473287  -2.697448    -1\n",
      "29  -6.594188   0.921974    -1\n",
      "30   4.893108  10.364295    -1\n",
      "31   0.170951   7.816604    -1\n",
      "32  -6.620325  -6.322244    -1\n",
      "33   2.534136   3.777300    -1\n",
      "34  -1.711690   1.164033    -1\n",
      "35  -4.621331   3.690463    -1\n",
      "36  -8.977268   3.325864    -1\n",
      "37  -0.897863  -1.853608    -1\n",
      "38  -4.658236   2.525546    -1\n",
      "39   5.497999   2.116129    -1\n",
      "40   3.791224  -1.707050    -1\n",
      "41   1.602146   0.001367    -1\n",
      "42  -4.660363   3.397740    -1\n",
      "43   1.750882   3.106262    -1\n",
      "44   5.212144  -8.434132    -1\n",
      "45  -3.004703  -0.126454    -1\n",
      "46   4.904597  -0.578576    -1\n",
      "47   1.686121   1.180872    -1\n",
      "48  -0.747507   3.776117    -1\n",
      "49  -1.771450  -0.675737    -1\n"
     ]
    },
    {
     "data": {
      "text/plain": [
       "<matplotlib.collections.PathCollection at 0x7fab2fc8f3d0>"
      ]
     },
     "execution_count": 7,
     "metadata": {},
     "output_type": "execute_result"
    },
    {
     "data": {
      "image/png": "[encoded data removed]",
      "text/plain": [
       "<Figure size 432x288 with 1 Axes>"
      ]
     },
     "metadata": {
      "needs_background": "light"
     },
     "output_type": "display_data"
    }
   ],
   "source": [
    "#DataFrameの連結\n",
    "\n",
    "#前にmultivariate_normalのDataFrame df1を作ったので新しく作ったdf2と連結してみる。\n",
    "#新しいDataFrame の作成\n",
    "mu1 = [0, 0]\n",
    "n1 = 30\n",
    "variance1 = 15\n",
    "df2 = DataFrame(multivariate_normal(mu1, np.eye(2)*variance1 ,n1),\n",
    "                columns=['x', 'y'])\n",
    "df2['type'] = -1\n",
    "#表示してみる。\n",
    "plt.scatter(df2.x, df2.y, marker='o', color='blue')\n",
    "\n",
    "#連結。df1の続きにdf2を連結する。\n",
    "df = pd.concat([df1, df2], ignore_index=True)\n",
    "print(df)\n",
    "\n",
    "#表示してみる。\n",
    "plt.scatter(df.x, df.y, marker='x', color='red')\n"
   ]
  },
  {
   "cell_type": "markdown",
   "metadata": {},
   "source": [
    "【DataFrameのindexについて】以下の記事が詳しいURL\n",
    "https://deepage.net/features/pandas-index.html"
   ]
  },
  {
   "cell_type": "markdown",
   "metadata": {},
   "source": [
    "Pandasにおけるデータ構造DataFrameやSeriesにはデータをラベリングするインデックス名とカラム名が存在します。\n",
    "仮に、以下のようなDataFrameを作るとします。"
   ]
  },
  {
   "cell_type": "code",
   "execution_count": 8,
   "metadata": {},
   "outputs": [
    {
     "data": {
      "text/html": [
       "<div>\n",
       "<style scoped>\n",
       "    .dataframe tbody tr th:only-of-type {\n",
       "        vertical-align: middle;\n",
       "    }\n",
       "\n",
       "    .dataframe tbody tr th {\n",
       "        vertical-align: top;\n",
       "    }\n",
       "\n",
       "    .dataframe thead th {\n",
       "        text-align: right;\n",
       "    }\n",
       "</style>\n",
       "<table border=\"1\" class=\"dataframe\">\n",
       "  <thead>\n",
       "    <tr style=\"text-align: right;\">\n",
       "      <th></th>\n",
       "      <th>a</th>\n",
       "      <th>b</th>\n",
       "      <th>c</th>\n",
       "    </tr>\n",
       "  </thead>\n",
       "  <tbody>\n",
       "    <tr>\n",
       "      <th>one</th>\n",
       "      <td>1</td>\n",
       "      <td>1</td>\n",
       "      <td>1</td>\n",
       "    </tr>\n",
       "    <tr>\n",
       "      <th>two</th>\n",
       "      <td>2</td>\n",
       "      <td>1</td>\n",
       "      <td>2</td>\n",
       "    </tr>\n",
       "    <tr>\n",
       "      <th>three</th>\n",
       "      <td>3</td>\n",
       "      <td>2</td>\n",
       "      <td>3</td>\n",
       "    </tr>\n",
       "  </tbody>\n",
       "</table>\n",
       "</div>"
      ],
      "text/plain": [
       "       a  b  c\n",
       "one    1  1  1\n",
       "two    2  1  2\n",
       "three  3  2  3"
      ]
     },
     "execution_count": 8,
     "metadata": {},
     "output_type": "execute_result"
    }
   ],
   "source": [
    "a = pd.DataFrame([[1,1,1,],[2,1,2],[3,2,3]],index=[\"one\",\"two\",\"three\"], columns=[\"a\",\"b\",\"c\"])\n",
    "a"
   ]
  },
  {
   "cell_type": "markdown",
   "metadata": {},
   "source": [
    "この、\"a\", \"b\",\"c\"はカラム名で\"one\", \"two\", \"three\"はインデックス名となります。これはどちらもIndexオブジェクトであり、以下のように表示されます。"
   ]
  },
  {
   "cell_type": "code",
   "execution_count": 9,
   "metadata": {},
   "outputs": [
    {
     "name": "stdout",
     "output_type": "stream",
     "text": [
      "Index(['one', 'two', 'three'], dtype='object')\n",
      "Index(['a', 'b', 'c'], dtype='object')\n"
     ]
    }
   ],
   "source": [
    "print(a.index)\n",
    "print(a.columns)"
   ]
  },
  {
   "cell_type": "markdown",
   "metadata": {},
   "source": [
    "indexやcolumnsへのアクセスはこんな感じです。"
   ]
  },
  {
   "cell_type": "code",
   "execution_count": 10,
   "metadata": {},
   "outputs": [
    {
     "name": "stdout",
     "output_type": "stream",
     "text": [
      "       a  b  c\n",
      "one    1  1  1\n",
      "two    2  1  2\n",
      "three  3  2  3\n",
      "index size= 3\n",
      "one\n",
      "two\n",
      "three\n",
      "columns size= 3\n",
      "a\n",
      "b\n",
      "c\n"
     ]
    }
   ],
   "source": [
    "b = a\n",
    "print(b)\n",
    "print(\"index size=\", len(b.index))\n",
    "for i in b.index:\n",
    "    print(i)\n",
    "    \n",
    "print(\"columns size=\", len(b.columns))\n",
    "for i in b.columns:\n",
    "    print(i)"
   ]
  },
  {
   "cell_type": "markdown",
   "metadata": {},
   "source": [
    "今回はこのIndexオブジェクトについて詳しく解説していきます。この記事を読み終わる頃には自由自在にIndexオブジェクトを使えるようになっているはずです。"
   ]
  },
  {
   "cell_type": "markdown",
   "metadata": {},
   "source": [
    "Indexオブジェクトは公式ドキュメントで以下のように説明されています。\n",
    "Immutable ndarray implementing an ordered, sliceable set. The basic object storing axis labels for all pandas objects\n",
    "変更不可能で順序付きのスライシングすることのできる集合を実装する多次元配列。全てのPandasのオブジェクトにおいて、軸ラベルを格納している基本的なオブジェクト。といった感じになります。前半部分がぎこちない訳になってしまいましたが、Indexオブジェクトによって実装された集合は\n",
    "\n",
    "スライシングができる\n",
    "順序が決まっている\n",
    "インデックスの内容を変更することができない\n",
    "ものだということになります。\n",
    "\n",
    "変更できないというのは、先程の例を使うと、aのindexを'one','two','three'じゃなくて'one', 'eight', 'three'に変えたいとします。このとき、以下のように代入によるインデックスを変更する操作をすることはできません。"
   ]
  },
  {
   "cell_type": "code",
   "execution_count": 11,
   "metadata": {},
   "outputs": [
    {
     "name": "stdout",
     "output_type": "stream",
     "text": [
      "Index does not support mutable operations\n"
     ]
    }
   ],
   "source": [
    "#エラーが吐き出されると、その時点でのjupyter notebookの以降のpythonが実行されないため、\n",
    "#例外処理をしておきます。\n",
    "try:\n",
    "    a.index[1] = 'eight'\n",
    "except Exception as e:\n",
    "    print(e)"
   ]
  },
  {
   "cell_type": "markdown",
   "metadata": {},
   "source": [
    "代わりに変更したい場合は、rename()関数を使います。このとき、rename関数は中身を変更する破壊的な操作はせず、変更されたDataFrameを返します。"
   ]
  },
  {
   "cell_type": "code",
   "execution_count": 12,
   "metadata": {},
   "outputs": [
    {
     "name": "stdout",
     "output_type": "stream",
     "text": [
      "       a  b  c\n",
      "one    1  1  1\n",
      "eight  2  1  2\n",
      "three  3  2  3\n",
      "       a  b  c\n",
      "one    1  1  1\n",
      "two    2  1  2\n",
      "three  3  2  3\n"
     ]
    }
   ],
   "source": [
    "print(a.rename(index={\"two\":\"eight\"}))\n",
    "print(a)"
   ]
  },
  {
   "cell_type": "markdown",
   "metadata": {},
   "source": [
    "このままだとaの中身は変わらないのでinplace=Trueにすることで、ようやくaの中身が変更されます。"
   ]
  },
  {
   "cell_type": "code",
   "execution_count": 13,
   "metadata": {},
   "outputs": [
    {
     "name": "stdout",
     "output_type": "stream",
     "text": [
      "       a  b  c\n",
      "one    1  1  1\n",
      "two    2  1  2\n",
      "three  3  2  3\n",
      "renameを実行すると、もとのオブジェクトも変更される\n",
      "変更後を表示\n",
      "       a  b  c\n",
      "one    1  1  1\n",
      "eight  2  1  2\n",
      "three  3  2  3\n",
      "もとに戻しておく\n",
      "       a  b  c\n",
      "one    1  1  1\n",
      "two    2  1  2\n",
      "three  3  2  3\n"
     ]
    }
   ],
   "source": [
    "print(a)\n",
    "print(\"renameを実行すると、もとのオブジェクトも変更される\")\n",
    "a.rename(index={\"two\":\"eight\"}, inplace=True)\n",
    "print(\"変更後を表示\")\n",
    "print(a)\n",
    "\n",
    "a.rename(index={\"eight\":\"two\"}, inplace=True)\n",
    "print(\"もとに戻しておく\")\n",
    "print(a)\n"
   ]
  },
  {
   "cell_type": "markdown",
   "metadata": {},
   "source": [
    "この関数を使う以外に、同じデータを使ってもう一度DataFrameを新しいインデックスで作り直す方法があります。\n",
    "\n",
    "DataFrameにあるIndexオブジェクトを直接修正することができず、関数を駆使しないとうまくインデックス名やカラム名を変えることができないのは少々不便に感じるかもしれませんが、データを操作する時うっかり中身を変更するということがなくなるため、思ってもない操作でIndexの中身が変わってしまうバグに遭遇しにくくするような働きがあります。\n",
    "\n",
    "直感的に操作できない分、インデックスに関する操作はしっかりと把握しておく必要があります。また、Pandasを操作する上では、メモリ効率などの必要な理由がない限りインデックスの変更は避けるべきです。\n",
    "\n",
    "スライシングができるという部分に関してですが、Pythonのリスト型やNumPyの配列(ndarray)と同様にスライシングで要素を抜き出すことができるという意味です。\n",
    "\n",
    "以下の操作でスライシングできます。"
   ]
  },
  {
   "cell_type": "code",
   "execution_count": 14,
   "metadata": {},
   "outputs": [
    {
     "name": "stdout",
     "output_type": "stream",
     "text": [
      "       a  b  c\n",
      "one    1  1  1\n",
      "two    2  1  2\n",
      "three  3  2  3\n",
      "Index(['one'], dtype='object')\n",
      "Index(['two', 'three'], dtype='object')\n",
      "Index(['two'], dtype='object')\n",
      "Index(['one'], dtype='object')\n",
      "Index(['one', 'two'], dtype='object')\n",
      "Index(['one', 'two', 'three'], dtype='object')\n"
     ]
    }
   ],
   "source": [
    "print(a)\n",
    "\n",
    "print(a.index[:1]) # 0から1まで。終点の1は範囲に含まれないので今回は0の要素のみが抜き出される。\n",
    "\n",
    "print(a.index[1:])\n",
    "\n",
    "print(a.index[1:2])\n",
    "\n",
    "print(a.index[0:1])\n",
    "print(a.index[0:2])\n",
    "print(a.index[0:3])"
   ]
  },
  {
   "cell_type": "markdown",
   "metadata": {},
   "source": [
    "インデックスとカラムの両方のラベルにIndexオブジェクトが使われており、Pandasの内部では同列に扱われているということが理解できていると、以下の操作をあまり不思議に思わずに受け入れることができるはずです。\n",
    "\n",
    "以下ではstack関数とunstack関数を使っています。\n",
    "\n",
    "stack関数はカラムラベルに使われているIndexオブジェクトをインデックスラベルに移してしまう関数です。カラムラベルに1つのIndexオブジェクトしかない場合、stack関数の返り値はSeriesオブジェクトになります。\n",
    "\n",
    "逆にunstackはインデックスのラベルをカラムのラベルに移す作業を実行します。このときもインデックスラベルにあるIndexオブジェクトが1つしかない場合、返り値はSeriesオブジェクトになってしまいます。"
   ]
  },
  {
   "cell_type": "code",
   "execution_count": 15,
   "metadata": {},
   "outputs": [
    {
     "name": "stdout",
     "output_type": "stream",
     "text": [
      "       a  b  c\n",
      "one    1  1  1\n",
      "two    2  1  2\n",
      "three  3  2  3\n",
      "one    a    1\n",
      "       b    1\n",
      "       c    1\n",
      "two    a    2\n",
      "       b    1\n",
      "       c    2\n",
      "three  a    3\n",
      "       b    2\n",
      "       c    3\n",
      "dtype: int64\n",
      "       a  b  c\n",
      "one    1  1  1\n",
      "two    2  1  2\n",
      "three  3  2  3\n"
     ]
    }
   ],
   "source": [
    "print(a)\n",
    "\n",
    "print(a.stack())\n",
    "\n",
    "print(a)"
   ]
  },
  {
   "cell_type": "markdown",
   "metadata": {},
   "source": [
    "a.stack()を実行してももとのaに変更が無いため、この操作はイミュータブルであることがわかる。"
   ]
  },
  {
   "cell_type": "code",
   "execution_count": 16,
   "metadata": {},
   "outputs": [
    {
     "name": "stdout",
     "output_type": "stream",
     "text": [
      "one    a    1\n",
      "       b    1\n",
      "       c    1\n",
      "two    a    2\n",
      "       b    1\n",
      "       c    2\n",
      "three  a    3\n",
      "       b    2\n",
      "       c    3\n",
      "dtype: int64\n",
      "index size= 9\n",
      "('one', 'a')\n",
      "('one', 'b')\n",
      "('one', 'c')\n",
      "('two', 'a')\n",
      "('two', 'b')\n",
      "('two', 'c')\n",
      "('three', 'a')\n",
      "('three', 'b')\n",
      "('three', 'c')\n",
      "stackを実行すると、columnsがなくなるらしい。\n",
      "'Series' object has no attribute 'columns'\n"
     ]
    }
   ],
   "source": [
    "b = a.stack()\n",
    "print(b)\n",
    "\n",
    "print(\"index size=\", len(b.index))\n",
    "for i in b.index:\n",
    "    print(i)\n",
    "\n",
    "try:\n",
    "    #stackを実行すると、columnsがなくなるらしい。\n",
    "    print(\"columns size=\", len(b.columns))\n",
    "    for i in b.columns:\n",
    "        print(i)\n",
    "except Exception as e:\n",
    "    print(\"stackを実行すると、columnsがなくなるらしい。\")\n",
    "    print(e)"
   ]
  },
  {
   "cell_type": "markdown",
   "metadata": {},
   "source": [
    "インデックスが二重になっているようだ。\n",
    "b.one.aは1で、b.one.bは1、b.two.aは2、b.two.bは1になる。"
   ]
  },
  {
   "cell_type": "code",
   "execution_count": 17,
   "metadata": {},
   "outputs": [
    {
     "name": "stdout",
     "output_type": "stream",
     "text": [
      "one    a    1\n",
      "       b    1\n",
      "       c    1\n",
      "two    a    2\n",
      "       b    1\n",
      "       c    2\n",
      "three  a    3\n",
      "       b    2\n",
      "       c    3\n",
      "dtype: int64\n",
      "1\n",
      "1\n",
      "2\n",
      "1\n"
     ]
    }
   ],
   "source": [
    "print(b)\n",
    "print(b.one.a)\n",
    "print(b.one.b)\n",
    "print(b.two.a)\n",
    "print(b.two.b)"
   ]
  },
  {
   "cell_type": "code",
   "execution_count": 18,
   "metadata": {},
   "outputs": [
    {
     "name": "stdout",
     "output_type": "stream",
     "text": [
      "       a  b  c\n",
      "one    1  1  1\n",
      "two    2  1  2\n",
      "three  3  2  3\n",
      "a  one      1\n",
      "   two      2\n",
      "   three    3\n",
      "b  one      1\n",
      "   two      1\n",
      "   three    2\n",
      "c  one      1\n",
      "   two      2\n",
      "   three    3\n",
      "dtype: int64\n"
     ]
    }
   ],
   "source": [
    "print(a)\n",
    "print(a.unstack())"
   ]
  },
  {
   "cell_type": "code",
   "execution_count": 19,
   "metadata": {},
   "outputs": [
    {
     "name": "stdout",
     "output_type": "stream",
     "text": [
      "index size= 9\n",
      "('a', 'one')\n",
      "('a', 'two')\n",
      "('a', 'three')\n",
      "('b', 'one')\n",
      "('b', 'two')\n",
      "('b', 'three')\n",
      "('c', 'one')\n",
      "('c', 'two')\n",
      "('c', 'three')\n",
      "unstackを実行すると、columnsがなくなるらしい。\n",
      "'Series' object has no attribute 'columns'\n"
     ]
    }
   ],
   "source": [
    "b = a.unstack()\n",
    "print(\"index size=\", len(b.index))\n",
    "for i in b.index:\n",
    "    print(i)\n",
    "\n",
    "try:\n",
    "    #unstackを実行すると、columnsがなくなるらしい。\n",
    "    print(\"columns size=\", len(b.columns))\n",
    "    for i in b.columns:\n",
    "        print(i)\n",
    "except Exception as e:\n",
    "    print(\"unstackを実行すると、columnsがなくなるらしい。\")\n",
    "    print(e)"
   ]
  },
  {
   "cell_type": "markdown",
   "metadata": {},
   "source": [
    "【indexに関する基本操作】\n",
    "ここから先はIndexオブジェクトに関する基本操作を見ていきます。\n",
    "基本的には、DataFrameオブジェクトやSeriesオブジェクトを作成する際に引数indexとcolumnsを利用して指定します。 要素形成のためNumPyのarange関数とreshape関数を使っています。"
   ]
  },
  {
   "cell_type": "code",
   "execution_count": 20,
   "metadata": {},
   "outputs": [
    {
     "data": {
      "text/html": [
       "<div>\n",
       "<style scoped>\n",
       "    .dataframe tbody tr th:only-of-type {\n",
       "        vertical-align: middle;\n",
       "    }\n",
       "\n",
       "    .dataframe tbody tr th {\n",
       "        vertical-align: top;\n",
       "    }\n",
       "\n",
       "    .dataframe thead th {\n",
       "        text-align: right;\n",
       "    }\n",
       "</style>\n",
       "<table border=\"1\" class=\"dataframe\">\n",
       "  <thead>\n",
       "    <tr style=\"text-align: right;\">\n",
       "      <th></th>\n",
       "      <th>a</th>\n",
       "      <th>c</th>\n",
       "      <th>d</th>\n",
       "      <th>f</th>\n",
       "      <th>g</th>\n",
       "    </tr>\n",
       "  </thead>\n",
       "  <tbody>\n",
       "    <tr>\n",
       "      <th>0</th>\n",
       "      <td>0</td>\n",
       "      <td>1</td>\n",
       "      <td>2</td>\n",
       "      <td>3</td>\n",
       "      <td>4</td>\n",
       "    </tr>\n",
       "    <tr>\n",
       "      <th>2</th>\n",
       "      <td>5</td>\n",
       "      <td>6</td>\n",
       "      <td>7</td>\n",
       "      <td>8</td>\n",
       "      <td>9</td>\n",
       "    </tr>\n",
       "    <tr>\n",
       "      <th>4</th>\n",
       "      <td>10</td>\n",
       "      <td>11</td>\n",
       "      <td>12</td>\n",
       "      <td>13</td>\n",
       "      <td>14</td>\n",
       "    </tr>\n",
       "    <tr>\n",
       "      <th>5</th>\n",
       "      <td>15</td>\n",
       "      <td>16</td>\n",
       "      <td>17</td>\n",
       "      <td>18</td>\n",
       "      <td>19</td>\n",
       "    </tr>\n",
       "  </tbody>\n",
       "</table>\n",
       "</div>"
      ],
      "text/plain": [
       "    a   c   d   f   g\n",
       "0   0   1   2   3   4\n",
       "2   5   6   7   8   9\n",
       "4  10  11  12  13  14\n",
       "5  15  16  17  18  19"
      ]
     },
     "execution_count": 20,
     "metadata": {},
     "output_type": "execute_result"
    }
   ],
   "source": [
    "pd.DataFrame(np.arange(20).reshape(4,5),index=[0, 2, 4, 5], columns=[\"a\",\"c\",\"d\",\"f\",\"g\"])"
   ]
  },
  {
   "cell_type": "markdown",
   "metadata": {},
   "source": [
    "あらかじめ、Indexオブジェクトを生成してから指定することも可能です。"
   ]
  },
  {
   "cell_type": "code",
   "execution_count": 21,
   "metadata": {},
   "outputs": [
    {
     "name": "stdout",
     "output_type": "stream",
     "text": [
      "Int64Index([0, 2, 4, 5], dtype='int64')\n",
      "Index(['a', 'c', 'd', 'f', 'g'], dtype='object')\n"
     ]
    }
   ],
   "source": [
    "index = pd.Index([0,2,4,5])\n",
    "columns= pd.Index([\"a\",\"c\",\"d\",\"f\",\"g\"])\n",
    "pd.DataFrame(np.arange(20).reshape(4,5), index=index, columns=columns)\n",
    "print(index)\n",
    "print(columns)"
   ]
  },
  {
   "cell_type": "markdown",
   "metadata": {},
   "source": [
    "指定された値によってIndexオブジェクトの種類が変化していますがこれは後ほど解説します。シンプルにrange関数を使って生成することも可能です。この場合はわざわざ指定しなくても同じインデックスラベルが自動的に生成されます。"
   ]
  },
  {
   "cell_type": "code",
   "execution_count": 22,
   "metadata": {},
   "outputs": [
    {
     "data": {
      "text/html": [
       "<div>\n",
       "<style scoped>\n",
       "    .dataframe tbody tr th:only-of-type {\n",
       "        vertical-align: middle;\n",
       "    }\n",
       "\n",
       "    .dataframe tbody tr th {\n",
       "        vertical-align: top;\n",
       "    }\n",
       "\n",
       "    .dataframe thead th {\n",
       "        text-align: right;\n",
       "    }\n",
       "</style>\n",
       "<table border=\"1\" class=\"dataframe\">\n",
       "  <thead>\n",
       "    <tr style=\"text-align: right;\">\n",
       "      <th></th>\n",
       "      <th>a</th>\n",
       "      <th>c</th>\n",
       "      <th>d</th>\n",
       "      <th>f</th>\n",
       "      <th>g</th>\n",
       "    </tr>\n",
       "  </thead>\n",
       "  <tbody>\n",
       "    <tr>\n",
       "      <th>0</th>\n",
       "      <td>0</td>\n",
       "      <td>1</td>\n",
       "      <td>2</td>\n",
       "      <td>3</td>\n",
       "      <td>4</td>\n",
       "    </tr>\n",
       "    <tr>\n",
       "      <th>1</th>\n",
       "      <td>5</td>\n",
       "      <td>6</td>\n",
       "      <td>7</td>\n",
       "      <td>8</td>\n",
       "      <td>9</td>\n",
       "    </tr>\n",
       "    <tr>\n",
       "      <th>2</th>\n",
       "      <td>10</td>\n",
       "      <td>11</td>\n",
       "      <td>12</td>\n",
       "      <td>13</td>\n",
       "      <td>14</td>\n",
       "    </tr>\n",
       "    <tr>\n",
       "      <th>3</th>\n",
       "      <td>15</td>\n",
       "      <td>16</td>\n",
       "      <td>17</td>\n",
       "      <td>18</td>\n",
       "      <td>19</td>\n",
       "    </tr>\n",
       "  </tbody>\n",
       "</table>\n",
       "</div>"
      ],
      "text/plain": [
       "    a   c   d   f   g\n",
       "0   0   1   2   3   4\n",
       "1   5   6   7   8   9\n",
       "2  10  11  12  13  14\n",
       "3  15  16  17  18  19"
      ]
     },
     "execution_count": 22,
     "metadata": {},
     "output_type": "execute_result"
    }
   ],
   "source": [
    "pd.DataFrame(np.arange(20).reshape(4,5),index=range(4),columns=columns)"
   ]
  },
  {
   "cell_type": "markdown",
   "metadata": {},
   "source": [
    "Indexの変更\n",
    "ラベルを振り直す\n",
    "インデックスラベルとカラムラベルを振り直すことも可能です。この操作をするときには、reindex関数が便利です。\n",
    "\n",
    "この場合、あくまでも振り直すだけなので順番を変えたいときとか新しいインデックスラベルを作りたいときに使うものであり、ラベルそのものの名前を変えることができないことに注意してください。ラベルの値そのものを変更したいときはrename関数を使いましょう。\n",
    "\n",
    "ラベルと値との対応関係が維持された状態でインデックスやカラムラベルが振り直されます。"
   ]
  },
  {
   "cell_type": "code",
   "execution_count": 23,
   "metadata": {},
   "outputs": [
    {
     "name": "stdout",
     "output_type": "stream",
     "text": [
      "    a   c   d   f   g\n",
      "0   0   1   2   3   4\n",
      "2   5   6   7   8   9\n",
      "4  10  11  12  13  14\n",
      "5  15  16  17  18  19\n"
     ]
    }
   ],
   "source": [
    "a = pd.DataFrame(np.arange(20).reshape(4,5),index=[0, 2, 4, 5], columns =[\"a\",\"c\",\"d\",\"f\",\"g\"])\n",
    "print(a)"
   ]
  },
  {
   "cell_type": "code",
   "execution_count": 24,
   "metadata": {},
   "outputs": [
    {
     "name": "stdout",
     "output_type": "stream",
     "text": [
      "      a     c     d     f     g\n",
      "0   0.0   1.0   2.0   3.0   4.0\n",
      "1   NaN   NaN   NaN   NaN   NaN\n",
      "2   5.0   6.0   7.0   8.0   9.0\n",
      "3   NaN   NaN   NaN   NaN   NaN\n",
      "4  10.0  11.0  12.0  13.0  14.0\n",
      "5  15.0  16.0  17.0  18.0  19.0\n",
      "      a     c     d     f     g\n",
      "0   0.0   1.0   2.0   3.0   4.0\n",
      "3   NaN   NaN   NaN   NaN   NaN\n",
      "2   5.0   6.0   7.0   8.0   9.0\n",
      "1   NaN   NaN   NaN   NaN   NaN\n",
      "4  10.0  11.0  12.0  13.0  14.0\n",
      "0   0.0   1.0   2.0   3.0   4.0\n"
     ]
    }
   ],
   "source": [
    "print(a.reindex(range(6)))\n",
    "print(a.reindex([0,3,2,1,4,0])) # 同じものを2度繰り返してもよい"
   ]
  },
  {
   "cell_type": "markdown",
   "metadata": {},
   "source": [
    "これを見てわかると思いますが、存在しないラベルが発生した時はNaNで値が埋められます。そして、同じラベルには同じ値が対応しているので同じラベルが繰り返されると対応する値も繰り返されます。\n",
    "\n",
    "カラムラベルを変更したい場合は引数columnsに直接指定します。インデックスラベルを明示的に変更したい場合は引数indexに直接指定します。"
   ]
  },
  {
   "cell_type": "code",
   "execution_count": 25,
   "metadata": {},
   "outputs": [
    {
     "name": "stdout",
     "output_type": "stream",
     "text": [
      "    a   b   c   d   e   f   g\n",
      "0   0 NaN   1   2 NaN   3   4\n",
      "2   5 NaN   6   7 NaN   8   9\n",
      "4  10 NaN  11  12 NaN  13  14\n",
      "5  15 NaN  16  17 NaN  18  19\n",
      "      a     c     d     f     g\n",
      "0   0.0   1.0   2.0   3.0   4.0\n",
      "1   NaN   NaN   NaN   NaN   NaN\n",
      "2   5.0   6.0   7.0   8.0   9.0\n",
      "3   NaN   NaN   NaN   NaN   NaN\n",
      "4  10.0  11.0  12.0  13.0  14.0\n",
      "5  15.0  16.0  17.0  18.0  19.0\n"
     ]
    }
   ],
   "source": [
    "print(a.reindex(columns=[\"a\",\"b\",\"c\",\"d\",\"e\",\"f\",\"g\"]))\n",
    "print(a.reindex(index=range(6)))"
   ]
  },
  {
   "cell_type": "markdown",
   "metadata": {},
   "source": [
    "カラムに指定した部分で存在しなかった所（b,e列）はNaNになる。\n",
    "indexはrangeでも指定できる。\n",
    "NaNのところを埋める方法を指定します。method引数でffillとすれば直前の値を埋めていき、bfillとすれば直後の値を埋めていきます。"
   ]
  },
  {
   "cell_type": "code",
   "execution_count": 26,
   "metadata": {},
   "outputs": [
    {
     "name": "stdout",
     "output_type": "stream",
     "text": [
      "    a   c   d   f   g\n",
      "0   0   1   2   3   4\n",
      "1   0   1   2   3   4\n",
      "2   5   6   7   8   9\n",
      "3   5   6   7   8   9\n",
      "4  10  11  12  13  14\n",
      "5  15  16  17  18  19\n"
     ]
    }
   ],
   "source": [
    "print(a.reindex(index=range(6),method='ffill'))"
   ]
  },
  {
   "cell_type": "code",
   "execution_count": 27,
   "metadata": {},
   "outputs": [
    {
     "name": "stdout",
     "output_type": "stream",
     "text": [
      "    a   c   d   f   g\n",
      "0   0   1   2   3   4\n",
      "1   5   6   7   8   9\n",
      "2   5   6   7   8   9\n",
      "3  10  11  12  13  14\n",
      "4  10  11  12  13  14\n",
      "5  15  16  17  18  19\n"
     ]
    }
   ],
   "source": [
    "print(a.reindex(index=range(6),method='bfill'))"
   ]
  },
  {
   "cell_type": "markdown",
   "metadata": {},
   "source": [
    "ラベルの値を更新する\n",
    "次に、rename関数を使ってラベルの値を更新します。引数indexとcolumnsそれぞれに辞書形式で{(変更する前のラベル名):(変更後のラベル名)}を指定することで値の更新が可能です。"
   ]
  },
  {
   "cell_type": "code",
   "execution_count": 28,
   "metadata": {},
   "outputs": [
    {
     "name": "stdout",
     "output_type": "stream",
     "text": [
      "    a   c   d   f   g\n",
      "0   0   1   2   3   4\n",
      "2   5   6   7   8   9\n",
      "4  10  11  12  13  14\n",
      "5  15  16  17  18  19\n"
     ]
    }
   ],
   "source": [
    "print(a)"
   ]
  },
  {
   "cell_type": "code",
   "execution_count": 29,
   "metadata": {},
   "outputs": [
    {
     "name": "stdout",
     "output_type": "stream",
     "text": [
      "   AA   c   d   f   g\n",
      "0   0   1   2   3   4\n",
      "2   5   6   7   8   9\n",
      "4  10  11  12  13  14\n",
      "5  15  16  17  18  19\n"
     ]
    }
   ],
   "source": [
    "print(a.rename(columns={'a':'AA'}))"
   ]
  },
  {
   "cell_type": "code",
   "execution_count": 30,
   "metadata": {},
   "outputs": [
    {
     "name": "stdout",
     "output_type": "stream",
     "text": [
      "     a   c   d   f   g\n",
      "22   0   1   2   3   4\n",
      "2    5   6   7   8   9\n",
      "4   10  11  12  13  14\n",
      "5   15  16  17  18  19\n"
     ]
    }
   ],
   "source": [
    "print(a.rename(index={0:22}))"
   ]
  },
  {
   "cell_type": "code",
   "execution_count": 31,
   "metadata": {},
   "outputs": [
    {
     "name": "stdout",
     "output_type": "stream",
     "text": [
      "[[17, 'M', 'Tarou', 'Tokyo'], [18, 'F', 'Hanako', 'Osaka'], [18, 'M', 'Kakeru', 'Osaka'], [17, 'F', 'Manaka', 'Nagoya'], [19, 'M', 'Tomoki', 'Chiba'], [17, 'F', 'Rin', 'Hakata']]\n"
     ]
    }
   ],
   "source": [
    "raw = [[17, \"M\" ,\"Tarou\"  ,\"Tokyo\"],    \n",
    "       [18, \"F\" ,\"Hanako\" ,\"Osaka\" ],\n",
    "       [18, \"M\" ,\"Kakeru\" ,\"Osaka\" ],\n",
    "       [17, \"F\" ,\"Manaka\" ,\"Nagoya\"],\n",
    "       [19, \"M\" ,\"Tomoki\" ,\"Chiba\" ],\n",
    "       [17, \"F\" ,\"Rin\"    ,\"Hakata\"],]\n",
    "print(raw)"
   ]
  },
  {
   "cell_type": "code",
   "execution_count": 32,
   "metadata": {},
   "outputs": [
    {
     "name": "stdout",
     "output_type": "stream",
     "text": [
      "   age gender    name   state\n",
      "0   17      M   Tarou   Tokyo\n",
      "1   18      F  Hanako   Osaka\n",
      "2   18      M  Kakeru   Osaka\n",
      "3   17      F  Manaka  Nagoya\n",
      "4   19      M  Tomoki   Chiba\n",
      "5   17      F     Rin  Hakata\n"
     ]
    }
   ],
   "source": [
    "df = DataFrame(raw, index=range(len(raw)), columns=[\"age\", \"gender\", \"name\", \"state\"])\n",
    "print(df)"
   ]
  },
  {
   "cell_type": "markdown",
   "metadata": {},
   "source": [
    "set_indexは選択した列を行にする。drop=True(デフォルト)だと、選択した列が消えるが、Falseにすると残る。\n",
    "https://note.nkmk.me/python-pandas-set-index/"
   ]
  },
  {
   "cell_type": "code",
   "execution_count": 33,
   "metadata": {},
   "outputs": [
    {
     "name": "stdout",
     "output_type": "stream",
     "text": [
      "        age gender    name\n",
      "state                     \n",
      "Tokyo    17      M   Tarou\n",
      "Osaka    18      F  Hanako\n",
      "Osaka    18      M  Kakeru\n",
      "Nagoya   17      F  Manaka\n",
      "Chiba    19      M  Tomoki\n",
      "Hakata   17      F     Rin\n"
     ]
    }
   ],
   "source": [
    "print(df.set_index(['state']))"
   ]
  },
  {
   "cell_type": "code",
   "execution_count": 34,
   "metadata": {},
   "outputs": [
    {
     "name": "stdout",
     "output_type": "stream",
     "text": [
      "        age gender    name\n",
      "state                     \n",
      "Tokyo    17      M   Tarou\n",
      "Osaka    18      F  Hanako\n",
      "Osaka    18      M  Kakeru\n",
      "Nagoya   17      F  Manaka\n",
      "Chiba    19      M  Tomoki\n",
      "Hakata   17      F     Rin\n"
     ]
    }
   ],
   "source": [
    "df_2 = df.set_index(['state'])\n",
    "print(df_2)"
   ]
  },
  {
   "cell_type": "code",
   "execution_count": 35,
   "metadata": {},
   "outputs": [
    {
     "name": "stdout",
     "output_type": "stream",
     "text": [
      "           gender    name\n",
      "state  age               \n",
      "Tokyo  17       M   Tarou\n",
      "Osaka  18       F  Hanako\n",
      "       18       M  Kakeru\n",
      "Nagoya 17       F  Manaka\n",
      "Chiba  19       M  Tomoki\n",
      "Hakata 17       F     Rin\n"
     ]
    }
   ],
   "source": [
    "print(df_2.set_index(['age'], append=True)) # append=TrueにするとMultiIndexになる。Falseだと以前のIndexの値が消失する\n"
   ]
  },
  {
   "cell_type": "markdown",
   "metadata": {},
   "source": [
    "reset_index関数を使うとIndexオブジェクトに使用されていた値が列データとして追加されます。"
   ]
  },
  {
   "cell_type": "code",
   "execution_count": 36,
   "metadata": {},
   "outputs": [
    {
     "name": "stdout",
     "output_type": "stream",
     "text": [
      "    state  age gender    name\n",
      "0   Tokyo   17      M   Tarou\n",
      "1   Osaka   18      F  Hanako\n",
      "2   Osaka   18      M  Kakeru\n",
      "3  Nagoya   17      F  Manaka\n",
      "4   Chiba   19      M  Tomoki\n",
      "5  Hakata   17      F     Rin\n"
     ]
    }
   ],
   "source": [
    "print(df_2.reset_index())"
   ]
  },
  {
   "cell_type": "code",
   "execution_count": 37,
   "metadata": {},
   "outputs": [
    {
     "name": "stdout",
     "output_type": "stream",
     "text": [
      "   age gender    name   state\n",
      "0   17      M   Tarou   Tokyo\n",
      "1   18      F  Hanako   Osaka\n",
      "2   18      M  Kakeru   Osaka\n",
      "3   17      F  Manaka  Nagoya\n",
      "4   19      M  Tomoki   Chiba\n",
      "5   17      F     Rin  Hakata\n",
      "           gender    name\n",
      "state  age               \n",
      "Tokyo  17       M   Tarou\n",
      "Osaka  18       F  Hanako\n",
      "       18       M  Kakeru\n",
      "Nagoya 17       F  Manaka\n",
      "Chiba  19       M  Tomoki\n",
      "Hakata 17       F     Rin\n"
     ]
    }
   ],
   "source": [
    "print(df)\n",
    "df_temp = df.set_index(['state']).set_index(['age'], append=True)\n",
    "print(df_temp)"
   ]
  },
  {
   "cell_type": "code",
   "execution_count": 38,
   "metadata": {},
   "outputs": [
    {
     "name": "stdout",
     "output_type": "stream",
     "text": [
      "    state  age gender    name\n",
      "0   Tokyo   17      M   Tarou\n",
      "1   Osaka   18      F  Hanako\n",
      "2   Osaka   18      M  Kakeru\n",
      "3  Nagoya   17      F  Manaka\n",
      "4   Chiba   19      M  Tomoki\n",
      "5  Hakata   17      F     Rin\n"
     ]
    }
   ],
   "source": [
    "print(df_temp.reset_index())"
   ]
  },
  {
   "cell_type": "code",
   "execution_count": 39,
   "metadata": {},
   "outputs": [
    {
     "name": "stdout",
     "output_type": "stream",
     "text": [
      "        age gender    name\n",
      "state                     \n",
      "Tokyo    17      M   Tarou\n",
      "Osaka    18      F  Hanako\n",
      "Osaka    18      M  Kakeru\n",
      "Nagoya   17      F  Manaka\n",
      "Chiba    19      M  Tomoki\n",
      "Hakata   17      F     Rin\n"
     ]
    }
   ],
   "source": [
    "print(df_2)"
   ]
  },
  {
   "cell_type": "markdown",
   "metadata": {},
   "source": [
    "カラムとインデックスを入れ替える\n",
    "transpose関数を使うことによって行と列を入れ替えることができます。.Tでも同じことができます。"
   ]
  },
  {
   "cell_type": "code",
   "execution_count": 40,
   "metadata": {},
   "outputs": [
    {
     "name": "stdout",
     "output_type": "stream",
     "text": [
      "        age gender    name\n",
      "state                     \n",
      "Tokyo    17      M   Tarou\n",
      "Osaka    18      F  Hanako\n",
      "Osaka    18      M  Kakeru\n",
      "Nagoya   17      F  Manaka\n",
      "Chiba    19      M  Tomoki\n",
      "Hakata   17      F     Rin\n",
      "state   Tokyo   Osaka   Osaka  Nagoya   Chiba Hakata\n",
      "age        17      18      18      17      19     17\n",
      "gender      M       F       M       F       M      F\n",
      "name    Tarou  Hanako  Kakeru  Manaka  Tomoki    Rin\n"
     ]
    }
   ],
   "source": [
    "print(df_2)\n",
    "print(df_2.T)"
   ]
  },
  {
   "cell_type": "markdown",
   "metadata": {},
   "source": [
    "様々なIndexオブジェクト\n",
    "最後にIndexオブジェクトの様々なタイプを紹介します。\n",
    "\n",
    "通常はIndexオブジェクトを使うだけでよいのですが、ある特別な場合が生じるとPandas側が自動的にこれらのオブジェクトを割り当てます。これによって、Pandas内での処理速度を向上させる可能性があるようです(公式ドキュメントでも名言はしていません)。\n",
    "\n",
    "これらを特に把握する必要はあまりないのですが参考程度にそれぞれのAPIドキュメントを掲載しておきます。\n",
    "\n",
    "まずは普通のIndexオブジェクトから。これが最も基本的です。"
   ]
  },
  {
   "cell_type": "markdown",
   "metadata": {},
   "source": [
    "============================ indexの解説終わり ================================="
   ]
  },
  {
   "cell_type": "markdown",
   "metadata": {},
   "source": [
    "中井：perceptronのprepare_dataset関数を理解する。permutationから、それをreset_indexする理由。なんで、reindexする必要があるのか。"
   ]
  },
  {
   "cell_type": "code",
   "execution_count": 41,
   "metadata": {},
   "outputs": [],
   "source": [
    "def prepare_dataset(n1, mu1, variance1, n2, mu2, variance2):\n",
    "    df1 = DataFrame(multivariate_normal(mu1, np.eye(2)*variance1 ,n1),\n",
    "                    columns=['x', 'y'])\n",
    "    df1['type'] = 1\n",
    "    df2 = DataFrame(multivariate_normal(mu2, np.eye(2)*variance2, n2),\n",
    "                    columns=['x', 'y'])\n",
    "    df2['type'] = -1\n",
    "    df = pd.concat([df1, df2], ignore_index=True)\n",
    "    df = df.reindex(np.random.permutation(df.index)).reset_index(drop=True)\n",
    "    return df"
   ]
  },
  {
   "cell_type": "markdown",
   "metadata": {},
   "source": [
    "permutationについて\n",
    "https://www.headboost.jp/numpy-random-permutation/\n",
    "numpy.random.permutationは、渡した配列の要素をランダムに並べ替える関数です。多次元配列を渡した場合は最初の軸だけを並べ替えます。\n",
    "\n",
    "なお、同じような関数にnumpy.random.shuffleがあります。両者の違いは、permutationは渡した配列の要素を並べ替えた新しい配列を生成するのに対して、shuffleは引数に渡した配列の要素を並べ替える点にあります。"
   ]
  },
  {
   "cell_type": "code",
   "execution_count": 42,
   "metadata": {},
   "outputs": [
    {
     "name": "stdout",
     "output_type": "stream",
     "text": [
      "[5 1 3 4 2]\n"
     ]
    }
   ],
   "source": [
    "print(np.random.permutation([1,2,3,4,5]))"
   ]
  },
  {
   "cell_type": "markdown",
   "metadata": {},
   "source": [
    "ためしに、age,gender・・・からなるデータについて、permutationからreindex、reset_indexを試してみる。"
   ]
  },
  {
   "cell_type": "code",
   "execution_count": 43,
   "metadata": {},
   "outputs": [
    {
     "name": "stdout",
     "output_type": "stream",
     "text": [
      "   age gender    name   state\n",
      "0   17      M   Tarou   Tokyo\n",
      "1   18      F  Hanako   Osaka\n",
      "2   18      M  Kakeru   Osaka\n",
      "3   17      F  Manaka  Nagoya\n",
      "4   19      M  Tomoki   Chiba\n",
      "5   17      F     Rin  Hakata\n"
     ]
    }
   ],
   "source": [
    "df = DataFrame(raw, index=range(len(raw)), columns=[\"age\", \"gender\", \"name\", \"state\"])\n",
    "print(df)"
   ]
  },
  {
   "cell_type": "markdown",
   "metadata": {},
   "source": [
    "これを、permutationしてみる。"
   ]
  },
  {
   "cell_type": "code",
   "execution_count": 44,
   "metadata": {},
   "outputs": [
    {
     "name": "stdout",
     "output_type": "stream",
     "text": [
      "[3 4 2 0 5 1]\n"
     ]
    }
   ],
   "source": [
    "print(np.random.permutation(df.index))"
   ]
  },
  {
   "cell_type": "markdown",
   "metadata": {},
   "source": [
    "こいつをreindexしてみる。（インデックスを振り直す）"
   ]
  },
  {
   "cell_type": "code",
   "execution_count": 45,
   "metadata": {},
   "outputs": [
    {
     "name": "stdout",
     "output_type": "stream",
     "text": [
      "   age gender    name   state\n",
      "0   17      M   Tarou   Tokyo\n",
      "1   18      F  Hanako   Osaka\n",
      "3   17      F  Manaka  Nagoya\n",
      "2   18      M  Kakeru   Osaka\n",
      "5   17      F     Rin  Hakata\n",
      "4   19      M  Tomoki   Chiba\n"
     ]
    }
   ],
   "source": [
    "df_temp = df.reindex(np.random.permutation(df.index))\n",
    "print(df_temp)"
   ]
  },
  {
   "cell_type": "markdown",
   "metadata": {},
   "source": [
    "なるほど、データがシャッフルされた。次に、reset_indexする。"
   ]
  },
  {
   "cell_type": "code",
   "execution_count": 46,
   "metadata": {},
   "outputs": [
    {
     "name": "stdout",
     "output_type": "stream",
     "text": [
      "   age gender    name   state\n",
      "0   17      M   Tarou   Tokyo\n",
      "1   18      F  Hanako   Osaka\n",
      "2   17      F  Manaka  Nagoya\n",
      "3   18      M  Kakeru   Osaka\n",
      "4   17      F     Rin  Hakata\n",
      "5   19      M  Tomoki   Chiba\n"
     ]
    }
   ],
   "source": [
    "print(df_temp.reset_index(drop=True))"
   ]
  },
  {
   "cell_type": "markdown",
   "metadata": {},
   "source": [
    "なるほど、インデックスが綺麗になった（昇順になった）。"
   ]
  },
  {
   "cell_type": "markdown",
   "metadata": {},
   "source": [
    "===================================================================================="
   ]
  },
  {
   "cell_type": "markdown",
   "metadata": {},
   "source": [
    "中井：パーセプトロン：run_trainについてnumpyの使い方を勉強していく"
   ]
  },
  {
   "cell_type": "code",
   "execution_count": 47,
   "metadata": {},
   "outputs": [
    {
     "data": {
      "text/html": [
       "<div>\n",
       "<style scoped>\n",
       "    .dataframe tbody tr th:only-of-type {\n",
       "        vertical-align: middle;\n",
       "    }\n",
       "\n",
       "    .dataframe tbody tr th {\n",
       "        vertical-align: top;\n",
       "    }\n",
       "\n",
       "    .dataframe thead th {\n",
       "        text-align: right;\n",
       "    }\n",
       "</style>\n",
       "<table border=\"1\" class=\"dataframe\">\n",
       "  <thead>\n",
       "    <tr style=\"text-align: right;\">\n",
       "      <th></th>\n",
       "      <th>x</th>\n",
       "      <th>y</th>\n",
       "      <th>type</th>\n",
       "    </tr>\n",
       "  </thead>\n",
       "  <tbody>\n",
       "    <tr>\n",
       "      <th>0</th>\n",
       "      <td>-3.127427</td>\n",
       "      <td>7.822224</td>\n",
       "      <td>-1</td>\n",
       "    </tr>\n",
       "    <tr>\n",
       "      <th>1</th>\n",
       "      <td>16.886264</td>\n",
       "      <td>5.888391</td>\n",
       "      <td>1</td>\n",
       "    </tr>\n",
       "    <tr>\n",
       "      <th>2</th>\n",
       "      <td>14.006481</td>\n",
       "      <td>13.497341</td>\n",
       "      <td>1</td>\n",
       "    </tr>\n",
       "    <tr>\n",
       "      <th>3</th>\n",
       "      <td>1.532968</td>\n",
       "      <td>-5.184503</td>\n",
       "      <td>-1</td>\n",
       "    </tr>\n",
       "    <tr>\n",
       "      <th>4</th>\n",
       "      <td>13.171938</td>\n",
       "      <td>9.150697</td>\n",
       "      <td>1</td>\n",
       "    </tr>\n",
       "    <tr>\n",
       "      <th>5</th>\n",
       "      <td>7.464078</td>\n",
       "      <td>-8.483929</td>\n",
       "      <td>-1</td>\n",
       "    </tr>\n",
       "    <tr>\n",
       "      <th>6</th>\n",
       "      <td>11.171718</td>\n",
       "      <td>7.369932</td>\n",
       "      <td>1</td>\n",
       "    </tr>\n",
       "    <tr>\n",
       "      <th>7</th>\n",
       "      <td>2.763697</td>\n",
       "      <td>1.424647</td>\n",
       "      <td>-1</td>\n",
       "    </tr>\n",
       "    <tr>\n",
       "      <th>8</th>\n",
       "      <td>-4.560232</td>\n",
       "      <td>-2.182195</td>\n",
       "      <td>-1</td>\n",
       "    </tr>\n",
       "    <tr>\n",
       "      <th>9</th>\n",
       "      <td>22.321084</td>\n",
       "      <td>15.206962</td>\n",
       "      <td>1</td>\n",
       "    </tr>\n",
       "  </tbody>\n",
       "</table>\n",
       "</div>"
      ],
      "text/plain": [
       "           x          y  type\n",
       "0  -3.127427   7.822224    -1\n",
       "1  16.886264   5.888391     1\n",
       "2  14.006481  13.497341     1\n",
       "3   1.532968  -5.184503    -1\n",
       "4  13.171938   9.150697     1\n",
       "5   7.464078  -8.483929    -1\n",
       "6  11.171718   7.369932     1\n",
       "7   2.763697   1.424647    -1\n",
       "8  -4.560232  -2.182195    -1\n",
       "9  22.321084  15.206962     1"
      ]
     },
     "execution_count": 47,
     "metadata": {},
     "output_type": "execute_result"
    }
   ],
   "source": [
    "#ひとまず、train_setを生成\n",
    "train_set = prepare_dataset(20, [15, 10], 15, 30, [0, 0], 15)\n",
    "#最初の10コを表示する\n",
    "train_set[0:10]"
   ]
  },
  {
   "cell_type": "markdown",
   "metadata": {},
   "source": [
    "以下、run_trainで使っている、pandasの関数について記載していく。"
   ]
  },
  {
   "cell_type": "code",
   "execution_count": 48,
   "metadata": {},
   "outputs": [],
   "source": [
    "def run_train(train_set):\n",
    "    # パラメータの初期値とbias項の設定\n",
    "    w0 = w1 = w2 = 0.0\n",
    "    bias = 0.5 * (train_set.x.abs().mean() + train_set.y.abs().mean())\n",
    "\n",
    "    # Iterationを実施\n",
    "    paramhist = DataFrame([[w0, w1, w2]], columns=['w0', 'w1', 'w2'])\n",
    "    for i in range(30):\n",
    "        for index, point in train_set.iterrows():\n",
    "            x, y, type = point.x, point.y, point.type\n",
    "            if type * (w0*bias + w1*x + w2*y) <= 0:\n",
    "                w0 += type * bias\n",
    "                w1 += type * x\n",
    "                w2 += type * y\n",
    "        paramhist = paramhist.append(Series([w0, w1, w2], ['w0', 'w1', 'w2']),\n",
    "                                     ignore_index=True)\n",
    "    \n",
    "    # 判定誤差の計算\n",
    "    err = 0.0\n",
    "    for index, point in train_set.iterrows():\n",
    "        x, y, type = point.x, point.y, point.type\n",
    "        if type * (w0*bias + w1*x + w2*y) <= 0:\n",
    "            err += 1\n",
    "    err_rate = err * 100 / len(train_set)\n",
    "    \n",
    "    return paramhist, err_rate"
   ]
  },
  {
   "cell_type": "markdown",
   "metadata": {},
   "source": [
    "run_train関数の、train_setに対するabsやmeanの使い方から。"
   ]
  },
  {
   "cell_type": "code",
   "execution_count": 49,
   "metadata": {},
   "outputs": [
    {
     "name": "stdout",
     "output_type": "stream",
     "text": [
      "0    -3.127427\n",
      "1    16.886264\n",
      "2    14.006481\n",
      "3     1.532968\n",
      "4    13.171938\n",
      "5     7.464078\n",
      "6    11.171718\n",
      "7     2.763697\n",
      "8    -4.560232\n",
      "9    22.321084\n",
      "Name: x, dtype: float64\n"
     ]
    }
   ],
   "source": [
    "print(train_set.x[:10])"
   ]
  },
  {
   "cell_type": "markdown",
   "metadata": {},
   "source": [
    "absは各データの絶対値を返す(ベクトル)"
   ]
  },
  {
   "cell_type": "code",
   "execution_count": 50,
   "metadata": {},
   "outputs": [
    {
     "name": "stdout",
     "output_type": "stream",
     "text": [
      "0     3.127427\n",
      "1    16.886264\n",
      "2    14.006481\n",
      "3     1.532968\n",
      "4    13.171938\n",
      "5     7.464078\n",
      "6    11.171718\n",
      "7     2.763697\n",
      "8     4.560232\n",
      "9    22.321084\n",
      "Name: x, dtype: float64\n"
     ]
    }
   ],
   "source": [
    "print(train_set.x.abs()[:10])"
   ]
  },
  {
   "cell_type": "markdown",
   "metadata": {},
   "source": [
    "それに対し、meanは平均値のスカラー値になる。"
   ]
  },
  {
   "cell_type": "code",
   "execution_count": 51,
   "metadata": {},
   "outputs": [
    {
     "name": "stdout",
     "output_type": "stream",
     "text": [
      "8.281378427639503\n"
     ]
    }
   ],
   "source": [
    "print(train_set.x.abs().mean())"
   ]
  },
  {
   "cell_type": "markdown",
   "metadata": {},
   "source": [
    "iterrowsを試してみる。train_set.iterrows()はgenerator objectを返すので、forで列挙していく感じ。"
   ]
  },
  {
   "cell_type": "code",
   "execution_count": 52,
   "metadata": {},
   "outputs": [
    {
     "name": "stdout",
     "output_type": "stream",
     "text": [
      "<generator object DataFrame.iterrows at 0x7fab2fc01900>\n"
     ]
    }
   ],
   "source": [
    "try:\n",
    "    print(train_set.iterrows())\n",
    "except Exception as e:\n",
    "    print(e)"
   ]
  },
  {
   "cell_type": "code",
   "execution_count": 53,
   "metadata": {},
   "outputs": [
    {
     "name": "stdout",
     "output_type": "stream",
     "text": [
      "(0, x      -3.127427\n",
      "y       7.822224\n",
      "type   -1.000000\n",
      "Name: 0, dtype: float64)\n",
      "(1, x       16.886264\n",
      "y        5.888391\n",
      "type     1.000000\n",
      "Name: 1, dtype: float64)\n",
      "(2, x       14.006481\n",
      "y       13.497341\n",
      "type     1.000000\n",
      "Name: 2, dtype: float64)\n",
      "(3, x       1.532968\n",
      "y      -5.184503\n",
      "type   -1.000000\n",
      "Name: 3, dtype: float64)\n",
      "(4, x       13.171938\n",
      "y        9.150697\n",
      "type     1.000000\n",
      "Name: 4, dtype: float64)\n"
     ]
    }
   ],
   "source": [
    "#長いので最初の5回で止めておく\n",
    "c = 0\n",
    "for i in train_set.iterrows():\n",
    "    print(i)\n",
    "    c += 1\n",
    "    if c > 4:\n",
    "        break\n",
    "#それぞれのデータについて、index値、x、y、typeが表示される"
   ]
  },
  {
   "cell_type": "markdown",
   "metadata": {},
   "source": [
    "列挙一般の話かもしれないが、indexも一緒に取れる様子。"
   ]
  },
  {
   "cell_type": "code",
   "execution_count": 54,
   "metadata": {},
   "outputs": [
    {
     "name": "stdout",
     "output_type": "stream",
     "text": [
      "== index == 0\n",
      "x      -3.127427\n",
      "y       7.822224\n",
      "type   -1.000000\n",
      "Name: 0, dtype: float64\n",
      "== index == 1\n",
      "x       16.886264\n",
      "y        5.888391\n",
      "type     1.000000\n",
      "Name: 1, dtype: float64\n",
      "== index == 2\n",
      "x       14.006481\n",
      "y       13.497341\n",
      "type     1.000000\n",
      "Name: 2, dtype: float64\n",
      "== index == 3\n",
      "x       1.532968\n",
      "y      -5.184503\n",
      "type   -1.000000\n",
      "Name: 3, dtype: float64\n",
      "== index == 4\n",
      "x       13.171938\n",
      "y        9.150697\n",
      "type     1.000000\n",
      "Name: 4, dtype: float64\n"
     ]
    }
   ],
   "source": [
    "for index, i in train_set.iterrows():\n",
    "    print(\"== index ==\", index)\n",
    "    print(i)\n",
    "    if index >= 4:\n",
    "        break"
   ]
  },
  {
   "cell_type": "markdown",
   "metadata": {},
   "source": [
    "=====================================================================\n",
    "show_result周り"
   ]
  },
  {
   "cell_type": "markdown",
   "metadata": {},
   "source": [
    "配列のアクセス周り。[-1:]のアクセス方法。配列の最後にアクセス。"
   ]
  },
  {
   "cell_type": "code",
   "execution_count": 55,
   "metadata": {},
   "outputs": [
    {
     "name": "stdout",
     "output_type": "stream",
     "text": [
      "[5]\n"
     ]
    }
   ],
   "source": [
    "array_temp = [0,1,2,3,4,5]\n",
    "print(array_temp[-1:])"
   ]
  },
  {
   "cell_type": "markdown",
   "metadata": {},
   "source": [
    "train_setのうち、特定のtypeを抽出する。"
   ]
  },
  {
   "cell_type": "code",
   "execution_count": 56,
   "metadata": {},
   "outputs": [
    {
     "name": "stdout",
     "output_type": "stream",
     "text": [
      "            x          y  type\n",
      "1   16.886264   5.888391     1\n",
      "2   14.006481  13.497341     1\n",
      "4   13.171938   9.150697     1\n",
      "6   11.171718   7.369932     1\n",
      "9   22.321084  15.206962     1\n",
      "11   9.982680   2.773207     1\n",
      "12  15.448544  12.795948     1\n",
      "13  19.458310  10.237970     1\n",
      "15  11.031793  11.115656     1\n",
      "24  16.716366   6.810359     1\n",
      "27  15.800035  14.058109     1\n",
      "28  10.142540   7.791797     1\n",
      "30  14.392200  13.325812     1\n",
      "32  13.907225   9.567483     1\n",
      "33  16.500664   6.579639     1\n",
      "36  18.247834   1.074836     1\n",
      "37  17.356234  13.182611     1\n",
      "41  20.872899  17.242666     1\n",
      "44  17.630800  12.540379     1\n",
      "48   9.708116   5.453738     1\n"
     ]
    }
   ],
   "source": [
    "train_set1 = train_set[train_set['type']==1]\n",
    "print(train_set1)"
   ]
  },
  {
   "cell_type": "markdown",
   "metadata": {},
   "source": [
    "=====================================================================\n",
    "\n",
    "run_logisticを理解する"
   ]
  },
  {
   "cell_type": "markdown",
   "metadata": {},
   "source": [
    "pd.options.mode.chained_assignment = Noneについて"
   ]
  },
  {
   "cell_type": "markdown",
   "metadata": {},
   "source": [
    "最初に、\"pd.options.mode.chained_assignment = None\"がよく理解できないので、調べる。\n",
    "以下のURLが詳しい。「消費メモリを小さくするためのワーニングですんで、そのこと理解した上で使いましょー(・ω・)ノシ」ってことらしい。\n",
    "https://yasuhallabo.hatenadiary.org/entry/20171114/1510656601"
   ]
  },
  {
   "cell_type": "code",
   "execution_count": 57,
   "metadata": {},
   "outputs": [
    {
     "name": "stdout",
     "output_type": "stream",
     "text": [
      "#DataFrameを使って下準備する\n",
      "   one  two\n",
      "0  NaN  NaN\n",
      "1  NaN  NaN\n",
      "-----\n",
      "0    NaN\n",
      "1    NaN\n",
      "Name: one, dtype: object\n",
      "Seriesを代入してみる\n",
      "0    1.0\n",
      "dtype: float64\n",
      "   one  two\n",
      "0  1.0  NaN\n",
      "1  NaN  NaN\n",
      "   one  two    1\n",
      "0  1.0  NaN  1.0\n",
      "1  NaN  NaN  NaN\n",
      "#特にエラーは発生しないなぁ。\n"
     ]
    }
   ],
   "source": [
    "print(\"#DataFrameを使って下準備する\")\n",
    "df = DataFrame([], index=range(0,2), columns=[\"one\", \"two\"])\n",
    "print(df)\n",
    "print(\"-----\")\n",
    "print(df[\"one\"])\n",
    "print(\"Seriesを代入してみる\")\n",
    "s = Series(1.0)\n",
    "print(s)\n",
    "df[\"one\"] = s\n",
    "print(df)\n",
    "df[1] = s\n",
    "print(df)\n",
    "print(\"#特にエラーは発生しないなぁ。\")"
   ]
  },
  {
   "cell_type": "markdown",
   "metadata": {},
   "source": [
    "w = np.array([[0], [0.1], [0.1]])は何をしているのか？"
   ]
  },
  {
   "cell_type": "code",
   "execution_count": 58,
   "metadata": {},
   "outputs": [
    {
     "name": "stdout",
     "output_type": "stream",
     "text": [
      "#np.arrayの使い方\n",
      "#二次元配列になっている。この辺は普通の配列と同じ扱いの様子\n",
      "[[0. ]\n",
      " [0.1]\n",
      " [0.1]]\n"
     ]
    }
   ],
   "source": [
    "print(\"#np.arrayの使い方\")\n",
    "w = np.array([[0], [0.1], [0.1]])\n",
    "print(\"#二次元配列になっている。この辺は普通の配列と同じ扱いの様子\")\n",
    "print(w)"
   ]
  },
  {
   "cell_type": "code",
   "execution_count": 59,
   "metadata": {},
   "outputs": [],
   "source": [
    "train_set = prepare_dataset(80, [9, 9], 50, 200, [-3, -3], 50)"
   ]
  },
  {
   "cell_type": "code",
   "execution_count": 60,
   "metadata": {},
   "outputs": [
    {
     "name": "stdout",
     "output_type": "stream",
     "text": [
      "#train_setはカラムにxとy,typeが存在する。phiにはtypeが不要なので、\n",
      "             x          y  type\n",
      "0     6.653353   0.201437    -1\n",
      "1   -14.272785  -5.910267    -1\n",
      "2     3.513462   1.609513    -1\n",
      "3    -0.334647 -13.420516    -1\n",
      "4     6.839382   9.646526     1\n",
      "..         ...        ...   ...\n",
      "275   0.284504  20.816486     1\n",
      "276  25.990106  22.310207     1\n",
      "277  -0.513506  -9.741552    -1\n",
      "278  -4.198463 -13.196029    -1\n",
      "279   3.047756  14.001469     1\n",
      "\n",
      "[280 rows x 3 columns]\n",
      "#カラムxとyを抜き出してphiにする\n",
      "             x          y\n",
      "0     6.653353   0.201437\n",
      "1   -14.272785  -5.910267\n",
      "2     3.513462   1.609513\n",
      "3    -0.334647 -13.420516\n",
      "4     6.839382   9.646526\n",
      "..         ...        ...\n",
      "275   0.284504  20.816486\n",
      "276  25.990106  22.310207\n",
      "277  -0.513506  -9.741552\n",
      "278  -4.198463 -13.196029\n",
      "279   3.047756  14.001469\n",
      "\n",
      "[280 rows x 2 columns]\n"
     ]
    }
   ],
   "source": [
    "print(\"#train_setはカラムにxとy,typeが存在する。phiにはtypeが不要なので、\")\n",
    "print(train_set)\n",
    "print(\"#カラムxとyを抜き出してphiにする\")\n",
    "phi = train_set[['x', 'y']] \n",
    "print(phi)"
   ]
  },
  {
   "cell_type": "code",
   "execution_count": 61,
   "metadata": {},
   "outputs": [
    {
     "name": "stdout",
     "output_type": "stream",
     "text": [
      "更にphi(ベクトルφ)にbiasカラムを追加する（数式の通り)\n",
      "追加したbiasカラムの値がすべて1に設定される\n",
      "             x          y  bias\n",
      "0     6.653353   0.201437     1\n",
      "1   -14.272785  -5.910267     1\n",
      "2     3.513462   1.609513     1\n",
      "3    -0.334647 -13.420516     1\n",
      "4     6.839382   9.646526     1\n",
      "..         ...        ...   ...\n",
      "275   0.284504  20.816486     1\n",
      "276  25.990106  22.310207     1\n",
      "277  -0.513506  -9.741552     1\n",
      "278  -4.198463 -13.196029     1\n",
      "279   3.047756  14.001469     1\n",
      "\n",
      "[280 rows x 3 columns]\n"
     ]
    }
   ],
   "source": [
    "print(\"更にphi(ベクトルφ)にbiasカラムを追加する（数式の通り)\")\n",
    "phi['bias'] = 1\n",
    "print(\"追加したbiasカラムの値がすべて1に設定される\")\n",
    "print(phi)"
   ]
  },
  {
   "cell_type": "markdown",
   "metadata": {},
   "source": [
    "作ったphiをnumpyのarrayに変換する\n",
    "https://pandas.pydata.org/docs/reference/api/pandas.DataFrame.values.html"
   ]
  },
  {
   "cell_type": "code",
   "execution_count": 62,
   "metadata": {},
   "outputs": [
    {
     "name": "stdout",
     "output_type": "stream",
     "text": [
      "valuesを実行することで実現する。このメソッドは古くて、to_numpyが推奨されるそう。\n",
      "大量になる\n",
      "[[ 1.00000000e+00  6.65335273e+00  2.01436656e-01]\n",
      " [ 1.00000000e+00 -1.42727849e+01 -5.91026704e+00]\n",
      " [ 1.00000000e+00  3.51346220e+00  1.60951280e+00]\n",
      " [ 1.00000000e+00 -3.34646653e-01 -1.34205155e+01]\n",
      " [ 1.00000000e+00  6.83938207e+00  9.64652616e+00]\n",
      " [ 1.00000000e+00  1.13483303e+01  1.31747537e+01]\n",
      " [ 1.00000000e+00  7.04288394e+00  6.28181039e+00]\n",
      " [ 1.00000000e+00 -4.55628803e+00 -9.18786254e+00]\n",
      " [ 1.00000000e+00 -4.15156098e+00 -1.05568340e+01]\n",
      " [ 1.00000000e+00 -7.24709746e+00  2.96946891e-01]\n",
      " [ 1.00000000e+00  7.25317537e+00  7.75638268e+00]\n",
      " [ 1.00000000e+00  1.61791009e+01  9.05134226e+00]\n",
      " [ 1.00000000e+00 -2.65352950e+00  8.53601080e+00]\n",
      " [ 1.00000000e+00  1.30757021e+01  6.43713353e+00]\n",
      " [ 1.00000000e+00 -2.41148948e+00 -1.88845751e+01]\n",
      " [ 1.00000000e+00 -8.06832668e+00 -1.79055021e+01]\n",
      " [ 1.00000000e+00  3.58591865e-03  5.11234254e+00]\n",
      " [ 1.00000000e+00 -1.55613393e+01 -4.13339763e-01]\n",
      " [ 1.00000000e+00 -2.84085122e+00  3.31959110e+00]\n",
      " [ 1.00000000e+00  3.45773375e+00  3.01060843e+00]\n",
      " [ 1.00000000e+00  1.56543619e+01  1.61616519e+00]\n",
      " [ 1.00000000e+00 -1.21013683e+01 -8.12245463e+00]\n",
      " [ 1.00000000e+00 -5.28275808e+00 -3.99996308e+00]\n",
      " [ 1.00000000e+00  1.13076269e+01  1.21584570e+01]\n",
      " [ 1.00000000e+00 -5.36410297e+00  4.64733007e+00]\n",
      " [ 1.00000000e+00  2.73323639e+01  1.01707704e+01]\n",
      " [ 1.00000000e+00  1.04081745e+01 -1.64063040e+01]\n",
      " [ 1.00000000e+00 -3.65952191e+00 -1.19980621e+01]\n",
      " [ 1.00000000e+00  1.48376395e+01  2.85663097e+00]\n",
      " [ 1.00000000e+00 -9.61693296e+00 -6.57734045e+00]\n",
      " [ 1.00000000e+00 -2.87148676e-01 -1.49400089e+00]\n",
      " [ 1.00000000e+00  1.14436074e+00  1.17128577e+01]\n",
      " [ 1.00000000e+00  9.48009985e+00 -1.24873533e+01]\n",
      " [ 1.00000000e+00  3.59950978e-01 -8.09151678e+00]\n",
      " [ 1.00000000e+00  3.82930355e+00 -6.55239037e+00]\n",
      " [ 1.00000000e+00 -4.47833585e+00  2.82351911e-01]\n",
      " [ 1.00000000e+00  1.74426117e+00  2.33403763e+01]\n",
      " [ 1.00000000e+00 -4.24576015e+00  3.23570089e+00]\n",
      " [ 1.00000000e+00 -3.97983387e-01  3.25472288e+00]\n",
      " [ 1.00000000e+00  3.76265185e+00  2.02351379e+01]\n",
      " [ 1.00000000e+00 -8.30862790e-01  1.50273991e+00]\n",
      " [ 1.00000000e+00  4.88420765e+00 -2.12949205e+00]\n",
      " [ 1.00000000e+00 -4.10225785e+00  2.04799015e+01]\n",
      " [ 1.00000000e+00  4.48627229e+00 -8.33836407e+00]\n",
      " [ 1.00000000e+00  6.11798339e-01 -2.73417755e+00]\n",
      " [ 1.00000000e+00  6.19706183e-01 -1.28341059e+01]\n",
      " [ 1.00000000e+00 -4.80671007e-02 -7.93862854e+00]\n",
      " [ 1.00000000e+00 -5.58124697e+00  3.49041218e+00]\n",
      " [ 1.00000000e+00  9.35626022e+00  7.20950918e+00]\n",
      " [ 1.00000000e+00 -4.34406484e+00  4.73706757e+00]\n",
      " [ 1.00000000e+00 -3.40699253e+00 -5.36971462e+00]\n",
      " [ 1.00000000e+00  1.63732371e-01 -2.10416894e+01]\n",
      " [ 1.00000000e+00 -7.50945510e+00 -7.46415083e+00]\n",
      " [ 1.00000000e+00  7.25832854e+00  7.90363928e+00]\n",
      " [ 1.00000000e+00  4.42668758e+00 -1.48484490e+01]\n",
      " [ 1.00000000e+00  1.65434644e+01  1.24108409e+01]\n",
      " [ 1.00000000e+00 -8.75457022e+00  1.50154105e+00]\n",
      " [ 1.00000000e+00 -1.75046992e+00  2.20695292e+00]\n",
      " [ 1.00000000e+00 -1.51333490e+01  1.11926178e+00]\n",
      " [ 1.00000000e+00  1.28985695e+01  1.92494815e+00]\n",
      " [ 1.00000000e+00 -1.34770364e+01  2.63744880e+00]\n",
      " [ 1.00000000e+00 -1.00752655e+01 -4.36525738e+00]\n",
      " [ 1.00000000e+00  3.50611361e+00  3.53440837e+00]\n",
      " [ 1.00000000e+00 -9.73120798e+00  7.63407566e-01]\n",
      " [ 1.00000000e+00 -1.07516138e-01  5.26615804e+00]\n",
      " [ 1.00000000e+00  2.80250103e+00  5.78387974e+00]\n",
      " [ 1.00000000e+00 -1.11570744e+01 -9.07056603e+00]\n",
      " [ 1.00000000e+00  1.97990548e+01 -2.63857614e+00]\n",
      " [ 1.00000000e+00  2.92306867e+00  1.90849395e+01]\n",
      " [ 1.00000000e+00 -2.80913362e+00 -9.55741169e+00]\n",
      " [ 1.00000000e+00  9.72932414e+00  8.62934974e+00]\n",
      " [ 1.00000000e+00 -4.49306701e-01 -3.77339043e+00]\n",
      " [ 1.00000000e+00 -4.77760191e+00  6.26675789e+00]\n",
      " [ 1.00000000e+00 -1.36547079e+01 -1.25679570e+01]\n",
      " [ 1.00000000e+00  9.36926950e+00 -5.73999396e-01]\n",
      " [ 1.00000000e+00  4.88081167e+00 -9.43933816e+00]\n",
      " [ 1.00000000e+00 -3.15882331e+00  4.38903948e+00]\n",
      " [ 1.00000000e+00 -2.04631614e+00 -6.56707815e+00]\n",
      " [ 1.00000000e+00 -5.85715666e+00  5.35646572e+00]\n",
      " [ 1.00000000e+00 -8.27841682e+00  4.08683436e+00]\n",
      " [ 1.00000000e+00 -6.18159318e+00  3.10631213e+00]\n",
      " [ 1.00000000e+00  2.72866951e+00  2.37571500e-01]\n",
      " [ 1.00000000e+00 -7.25010285e+00 -1.46388885e+01]\n",
      " [ 1.00000000e+00 -4.94270584e+00 -3.91081835e+00]\n",
      " [ 1.00000000e+00 -1.28208949e+01 -4.58890858e+00]\n",
      " [ 1.00000000e+00  1.18655117e+01  3.71464650e+00]\n",
      " [ 1.00000000e+00 -1.48272655e+01 -3.53138475e+00]\n",
      " [ 1.00000000e+00  2.24132580e+00  1.18800350e+00]\n",
      " [ 1.00000000e+00  6.45046056e+00 -7.02775277e+00]\n",
      " [ 1.00000000e+00  4.21988152e+00  7.94953182e+00]\n",
      " [ 1.00000000e+00  1.60228761e+00 -4.82985750e+00]\n",
      " [ 1.00000000e+00  4.99395125e+00  2.48838210e+00]\n",
      " [ 1.00000000e+00  7.76305744e+00  4.72372255e+00]\n",
      " [ 1.00000000e+00 -6.32804356e+00  6.79695941e+00]\n",
      " [ 1.00000000e+00  1.24802790e+01  6.16878292e+00]\n",
      " [ 1.00000000e+00 -7.29545280e+00 -6.83190703e+00]\n",
      " [ 1.00000000e+00  1.13751052e+00  4.04188963e-01]\n",
      " [ 1.00000000e+00 -1.11903022e+00  1.01089729e+01]\n",
      " [ 1.00000000e+00  3.02875052e+00  1.15671773e+01]\n",
      " [ 1.00000000e+00 -2.41537920e+00 -1.10589904e+01]\n",
      " [ 1.00000000e+00  1.36194996e+01  1.76136513e+01]\n",
      " [ 1.00000000e+00 -1.03045576e+00 -7.34926050e+00]\n",
      " [ 1.00000000e+00  3.26500896e-01  3.47332606e+00]\n",
      " [ 1.00000000e+00  5.53273181e+00 -4.85039743e-01]\n",
      " [ 1.00000000e+00  1.38148165e+01  1.01894964e+01]\n",
      " [ 1.00000000e+00  1.39826370e-01  2.09812044e+00]\n",
      " [ 1.00000000e+00  9.15994119e-01  1.80278007e+01]\n",
      " [ 1.00000000e+00 -4.60832903e+00  1.39101389e+01]\n",
      " [ 1.00000000e+00  2.38689458e+00 -1.86993658e+01]\n",
      " [ 1.00000000e+00 -1.37238109e+01 -7.25064129e+00]\n",
      " [ 1.00000000e+00 -7.64401657e+00 -1.84716876e+00]\n",
      " [ 1.00000000e+00 -3.33823020e+00 -6.91972852e+00]\n",
      " [ 1.00000000e+00  1.06112682e+01  6.35892890e+00]\n",
      " [ 1.00000000e+00 -1.39469240e+00  2.32393116e+00]\n",
      " [ 1.00000000e+00  6.08280225e-01 -4.65400346e+00]\n",
      " [ 1.00000000e+00  1.35870851e+00 -6.80103652e+00]\n",
      " [ 1.00000000e+00 -3.61171578e+00  3.20068071e+00]\n",
      " [ 1.00000000e+00 -1.07344126e+01 -3.98639297e+00]\n",
      " [ 1.00000000e+00  3.48366502e+00  1.47001822e+00]\n",
      " [ 1.00000000e+00 -5.07702683e+00 -3.96456301e+00]\n",
      " [ 1.00000000e+00 -1.01493883e+01  1.16662461e+00]\n",
      " [ 1.00000000e+00 -9.75659026e+00  6.16923330e+00]\n",
      " [ 1.00000000e+00  1.34720194e+01  1.16773827e+01]\n",
      " [ 1.00000000e+00 -1.00943252e+01 -1.52921671e+01]\n",
      " [ 1.00000000e+00  2.45480823e+00 -5.61234685e+00]\n",
      " [ 1.00000000e+00 -3.97835055e+00  6.74050278e+00]\n",
      " [ 1.00000000e+00 -3.86750701e+00  2.51009789e+00]\n",
      " [ 1.00000000e+00  7.43783486e+00  9.29512195e+00]\n",
      " [ 1.00000000e+00  7.36748604e+00  1.72001739e+01]\n",
      " [ 1.00000000e+00 -1.65363320e+01  1.02821548e+01]\n",
      " [ 1.00000000e+00  1.45228593e+01 -3.93213662e-01]\n",
      " [ 1.00000000e+00 -8.83825946e+00 -3.77913960e+00]\n",
      " [ 1.00000000e+00  1.17168126e+01  4.70895658e+00]\n",
      " [ 1.00000000e+00 -2.91142494e+00 -6.00502484e-01]\n",
      " [ 1.00000000e+00 -4.75200420e+00 -5.73117228e+00]\n",
      " [ 1.00000000e+00 -3.37106918e+00 -3.08152173e+00]\n",
      " [ 1.00000000e+00 -3.87438551e+00  1.96802941e+00]\n",
      " [ 1.00000000e+00  1.58157557e+01  2.31165584e+01]\n",
      " [ 1.00000000e+00  5.70277945e+00  1.73807082e+00]\n",
      " [ 1.00000000e+00 -3.22867718e+00 -8.72896175e-01]\n",
      " [ 1.00000000e+00  1.21159585e+01  1.36784536e+01]\n",
      " [ 1.00000000e+00 -8.50934173e+00  1.38644862e+01]\n",
      " [ 1.00000000e+00 -3.65161186e+00 -4.70216943e+00]\n",
      " [ 1.00000000e+00 -1.49687360e+01 -4.27112488e+00]\n",
      " [ 1.00000000e+00  1.34918176e+00  6.00499795e+00]\n",
      " [ 1.00000000e+00 -3.71824022e+00 -9.45693221e+00]\n",
      " [ 1.00000000e+00 -8.98857932e+00 -1.11824432e+01]\n",
      " [ 1.00000000e+00  1.00275758e+00 -4.09720783e+00]\n",
      " [ 1.00000000e+00 -6.32586155e+00  1.66585299e+00]\n",
      " [ 1.00000000e+00  1.71960395e+00  7.64676722e-01]\n",
      " [ 1.00000000e+00  1.25984609e+01  2.84260338e-01]\n",
      " [ 1.00000000e+00 -1.59701333e+00  4.81143040e+00]\n",
      " [ 1.00000000e+00 -1.62666254e+00  1.09807232e+00]\n",
      " [ 1.00000000e+00  5.74092345e+00  6.79747339e+00]\n",
      " [ 1.00000000e+00 -5.12553005e+00 -2.60668012e+00]\n",
      " [ 1.00000000e+00 -1.78058507e+01 -7.74747938e+00]\n",
      " [ 1.00000000e+00  1.14410896e+01 -6.65857531e-01]\n",
      " [ 1.00000000e+00  5.36435500e-01  6.15360729e+00]\n",
      " [ 1.00000000e+00 -3.16224248e+00 -1.69699935e+01]\n",
      " [ 1.00000000e+00  3.60362928e+00  3.97211142e+00]\n",
      " [ 1.00000000e+00 -1.66079402e+01 -6.69552891e-01]\n",
      " [ 1.00000000e+00  5.62988494e+00  3.83483464e+00]\n",
      " [ 1.00000000e+00  2.79880247e+00  4.28652507e-01]\n",
      " [ 1.00000000e+00  2.43436682e+01  7.88322824e+00]\n",
      " [ 1.00000000e+00 -1.38272490e+00  5.37044689e+00]\n",
      " [ 1.00000000e+00 -4.71541038e+00 -4.48163359e+00]\n",
      " [ 1.00000000e+00  6.94275916e-01 -4.20896324e+00]\n",
      " [ 1.00000000e+00 -3.57904070e+00  8.49534171e+00]\n",
      " [ 1.00000000e+00 -1.81356418e+01 -2.08882092e+01]\n",
      " [ 1.00000000e+00  3.47231969e+00 -3.95100509e+00]\n",
      " [ 1.00000000e+00  9.73586924e+00  1.03278659e+01]\n",
      " [ 1.00000000e+00  1.36770819e+01  9.02737634e+00]\n",
      " [ 1.00000000e+00 -1.49143925e+01 -1.39819199e+01]\n",
      " [ 1.00000000e+00  1.04392329e+01  7.08897253e+00]\n",
      " [ 1.00000000e+00  4.11393036e+00  5.53287732e+00]\n",
      " [ 1.00000000e+00  2.07891161e+00 -3.09776263e+00]\n",
      " [ 1.00000000e+00 -5.13906841e+00 -9.07442940e+00]\n",
      " [ 1.00000000e+00 -5.36761158e+00 -1.15219824e+00]\n",
      " [ 1.00000000e+00  4.49710434e+00  1.31001522e+01]\n",
      " [ 1.00000000e+00  4.10470995e+00 -3.59784000e+00]\n",
      " [ 1.00000000e+00 -1.41260563e+00  7.75585771e+00]\n",
      " [ 1.00000000e+00  2.61587923e-01 -6.96290928e+00]\n",
      " [ 1.00000000e+00  1.02977008e+01  1.08525969e+01]\n",
      " [ 1.00000000e+00 -5.16451428e+00 -9.89688170e+00]\n",
      " [ 1.00000000e+00  1.21027622e+01  1.69668212e+00]\n",
      " [ 1.00000000e+00 -1.03869650e+01 -9.88076490e+00]\n",
      " [ 1.00000000e+00 -8.22028815e+00 -7.78357596e+00]\n",
      " [ 1.00000000e+00 -3.20443779e+00  5.17870211e+00]\n",
      " [ 1.00000000e+00 -7.42875518e+00 -1.13662743e+01]\n",
      " [ 1.00000000e+00  8.88489949e+00  3.60803786e+00]\n",
      " [ 1.00000000e+00 -1.04731162e+01 -7.03654754e+00]\n",
      " [ 1.00000000e+00  1.08008588e+01 -1.29983734e+01]\n",
      " [ 1.00000000e+00  1.65818202e+01  7.59191316e+00]\n",
      " [ 1.00000000e+00  2.38258903e+00 -1.31293658e-01]\n",
      " [ 1.00000000e+00 -5.04446784e-01  5.95778614e-01]\n",
      " [ 1.00000000e+00  3.04746148e+00  7.40181830e+00]\n",
      " [ 1.00000000e+00  1.58556971e-01 -5.30148773e+00]\n",
      " [ 1.00000000e+00  5.52127102e+00 -1.56186730e+01]\n",
      " [ 1.00000000e+00 -4.03386442e+00 -4.19721273e+00]\n",
      " [ 1.00000000e+00  1.34493395e+01 -5.67011424e+00]\n",
      " [ 1.00000000e+00 -4.86681255e-01 -3.29834315e-01]\n",
      " [ 1.00000000e+00 -5.01239695e+00  4.34288107e+00]\n",
      " [ 1.00000000e+00 -6.24787770e+00 -3.80377708e+00]\n",
      " [ 1.00000000e+00 -1.20347312e+01  7.72487876e+00]\n",
      " [ 1.00000000e+00 -6.55306906e+00 -3.27351045e+00]\n",
      " [ 1.00000000e+00  1.42312431e+01 -1.47865568e+00]\n",
      " [ 1.00000000e+00 -7.22892036e+00  1.24323974e+01]\n",
      " [ 1.00000000e+00 -1.40169677e+01 -1.05281911e+01]\n",
      " [ 1.00000000e+00 -9.29373478e+00  6.27394153e+00]\n",
      " [ 1.00000000e+00 -2.33947270e+00 -6.97578484e+00]\n",
      " [ 1.00000000e+00  2.48615340e+00  3.17056846e+00]\n",
      " [ 1.00000000e+00  1.09898313e+01  1.97819671e+01]\n",
      " [ 1.00000000e+00  5.27867959e+00 -1.57002843e+01]\n",
      " [ 1.00000000e+00  1.56998967e+00 -1.43277859e+01]\n",
      " [ 1.00000000e+00  6.66200234e+00 -2.76470838e-01]\n",
      " [ 1.00000000e+00  1.82244461e+01 -5.97964201e+00]\n",
      " [ 1.00000000e+00 -1.09431513e+01 -1.80828017e+01]\n",
      " [ 1.00000000e+00 -1.03690314e+01 -2.74229526e+00]\n",
      " [ 1.00000000e+00 -4.04442065e+00 -1.01793520e+01]\n",
      " [ 1.00000000e+00  1.36839526e+00 -1.50997482e+00]\n",
      " [ 1.00000000e+00 -3.93313899e+00 -7.95894755e+00]\n",
      " [ 1.00000000e+00  8.10055164e+00  4.53001783e+00]\n",
      " [ 1.00000000e+00  1.10570962e+01  3.45332465e-01]\n",
      " [ 1.00000000e+00  1.57473532e+01 -6.68686128e+00]\n",
      " [ 1.00000000e+00 -3.88483625e+00  8.12851660e+00]\n",
      " [ 1.00000000e+00  1.57851120e+01  1.57238440e+01]\n",
      " [ 1.00000000e+00 -4.02910441e+00 -9.72663194e+00]\n",
      " [ 1.00000000e+00 -4.58121089e+00 -6.22347649e+00]\n",
      " [ 1.00000000e+00 -6.34882357e+00 -3.99336282e+00]\n",
      " [ 1.00000000e+00  6.26546129e+00 -2.90335544e+00]\n",
      " [ 1.00000000e+00  6.80938978e+00  1.77618658e+01]\n",
      " [ 1.00000000e+00 -1.03233535e+01 -1.50885116e+00]\n",
      " [ 1.00000000e+00  6.06051541e+00  1.19053434e+01]\n",
      " [ 1.00000000e+00  3.17903653e+00 -7.34840567e+00]\n",
      " [ 1.00000000e+00 -4.99675566e+00 -4.62339697e+00]\n",
      " [ 1.00000000e+00 -1.99054715e+00 -2.40298174e+00]\n",
      " [ 1.00000000e+00  6.48875312e+00  3.66571919e+00]\n",
      " [ 1.00000000e+00 -1.33549157e+01 -1.65855071e+00]\n",
      " [ 1.00000000e+00  3.14334682e+00 -1.69500723e+00]\n",
      " [ 1.00000000e+00  1.23777150e+01 -1.73744513e+00]\n",
      " [ 1.00000000e+00 -3.76489753e+00 -6.29493355e+00]\n",
      " [ 1.00000000e+00 -1.81818400e+01 -1.23791049e+01]\n",
      " [ 1.00000000e+00  3.12103473e+00 -1.09552602e+01]\n",
      " [ 1.00000000e+00 -1.32945823e+01  2.97868270e+00]\n",
      " [ 1.00000000e+00 -6.06283210e+00  1.11164722e+01]\n",
      " [ 1.00000000e+00 -3.96088625e+00  1.28087909e+00]\n",
      " [ 1.00000000e+00  8.76400959e+00  8.16046418e+00]\n",
      " [ 1.00000000e+00 -1.82977530e+01 -7.31508178e+00]\n",
      " [ 1.00000000e+00 -1.59395573e+00  2.96253213e+00]\n",
      " [ 1.00000000e+00  4.26637521e+00  6.73243103e+00]\n",
      " [ 1.00000000e+00 -8.26146789e+00 -4.82338565e+00]\n",
      " [ 1.00000000e+00  1.21353793e+01  3.91263912e+00]\n",
      " [ 1.00000000e+00  1.38012093e+01 -1.51308481e+01]\n",
      " [ 1.00000000e+00 -9.78927118e+00  6.76063316e+00]\n",
      " [ 1.00000000e+00 -1.20732622e+01  7.86449665e+00]\n",
      " [ 1.00000000e+00  7.64859191e+00 -1.40825109e+01]\n",
      " [ 1.00000000e+00  1.02520073e+01 -1.22013284e+00]\n",
      " [ 1.00000000e+00  1.92754659e+01 -1.85779330e+00]\n",
      " [ 1.00000000e+00  4.18885362e+00  1.35165959e+01]\n",
      " [ 1.00000000e+00 -1.94645806e+00 -1.42619716e+00]\n",
      " [ 1.00000000e+00 -4.45741159e+00 -5.74167061e+00]\n",
      " [ 1.00000000e+00 -4.94356840e+00  3.67170645e+00]\n",
      " [ 1.00000000e+00 -1.55524474e+01 -1.80090262e+00]\n",
      " [ 1.00000000e+00 -2.61905143e+00  1.19994844e+01]\n",
      " [ 1.00000000e+00 -8.63088472e+00  2.58996641e+00]\n",
      " [ 1.00000000e+00 -5.33047638e+00 -5.29413424e+00]\n",
      " [ 1.00000000e+00  6.40694692e+00  1.23613546e+01]\n",
      " [ 1.00000000e+00 -1.90581730e+01 -2.58247365e+00]\n",
      " [ 1.00000000e+00 -4.11381923e+00  3.06674662e+00]\n",
      " [ 1.00000000e+00 -1.30939769e+01  1.05752045e+01]\n",
      " [ 1.00000000e+00  9.11871394e+00  6.87073838e+00]\n",
      " [ 1.00000000e+00  1.80066091e+01 -1.74646855e+01]\n",
      " [ 1.00000000e+00 -1.07027269e+00 -2.04838571e+00]\n",
      " [ 1.00000000e+00 -1.05826958e+01 -7.49143803e+00]\n",
      " [ 1.00000000e+00 -2.00355155e-01 -1.07071563e+00]\n",
      " [ 1.00000000e+00  2.84503858e-01  2.08164864e+01]\n",
      " [ 1.00000000e+00  2.59901061e+01  2.23102072e+01]\n",
      " [ 1.00000000e+00 -5.13505832e-01 -9.74155240e+00]\n",
      " [ 1.00000000e+00 -4.19846317e+00 -1.31960292e+01]\n",
      " [ 1.00000000e+00  3.04775581e+00  1.40014694e+01]]\n"
     ]
    }
   ],
   "source": [
    "print(\"valuesを実行することで実現する。このメソッドは古くて、to_numpyが推奨されるそう。\")\n",
    "phi = phi[['bias', 'x', 'y']].values\n",
    "print(\"大量になる\")\n",
    "print(phi)"
   ]
  },
  {
   "cell_type": "code",
   "execution_count": 63,
   "metadata": {},
   "outputs": [
    {
     "name": "stdout",
     "output_type": "stream",
     "text": [
      "0     -1\n",
      "1     -1\n",
      "2     -1\n",
      "3     -1\n",
      "4      1\n",
      "      ..\n",
      "275    1\n",
      "276    1\n",
      "277   -1\n",
      "278   -1\n",
      "279    1\n",
      "Name: type, Length: 280, dtype: int64\n",
      "しかし、*0.5が無いと0または2のみに振れるため、0.5を×\n",
      "[[0.]\n",
      " [0.]\n",
      " [0.]\n",
      " [0.]\n",
      " [1.]\n",
      " [1.]\n",
      " [1.]\n",
      " [0.]\n",
      " [0.]\n",
      " [0.]\n",
      " [1.]\n",
      " [1.]\n",
      " [1.]\n",
      " [1.]\n",
      " [0.]\n",
      " [0.]\n",
      " [0.]\n",
      " [0.]\n",
      " [0.]\n",
      " [1.]\n",
      " [1.]\n",
      " [0.]\n",
      " [0.]\n",
      " [1.]\n",
      " [0.]\n",
      " [1.]\n",
      " [0.]\n",
      " [0.]\n",
      " [1.]\n",
      " [0.]\n",
      " [0.]\n",
      " [1.]\n",
      " [0.]\n",
      " [0.]\n",
      " [0.]\n",
      " [0.]\n",
      " [1.]\n",
      " [0.]\n",
      " [0.]\n",
      " [1.]\n",
      " [0.]\n",
      " [0.]\n",
      " [1.]\n",
      " [0.]\n",
      " [0.]\n",
      " [0.]\n",
      " [0.]\n",
      " [0.]\n",
      " [1.]\n",
      " [0.]\n",
      " [0.]\n",
      " [0.]\n",
      " [0.]\n",
      " [1.]\n",
      " [0.]\n",
      " [1.]\n",
      " [0.]\n",
      " [0.]\n",
      " [0.]\n",
      " [1.]\n",
      " [0.]\n",
      " [0.]\n",
      " [1.]\n",
      " [0.]\n",
      " [0.]\n",
      " [1.]\n",
      " [0.]\n",
      " [1.]\n",
      " [1.]\n",
      " [0.]\n",
      " [1.]\n",
      " [0.]\n",
      " [0.]\n",
      " [0.]\n",
      " [1.]\n",
      " [0.]\n",
      " [0.]\n",
      " [0.]\n",
      " [0.]\n",
      " [1.]\n",
      " [0.]\n",
      " [0.]\n",
      " [0.]\n",
      " [0.]\n",
      " [0.]\n",
      " [1.]\n",
      " [0.]\n",
      " [0.]\n",
      " [0.]\n",
      " [1.]\n",
      " [0.]\n",
      " [1.]\n",
      " [1.]\n",
      " [0.]\n",
      " [1.]\n",
      " [0.]\n",
      " [0.]\n",
      " [0.]\n",
      " [1.]\n",
      " [0.]\n",
      " [1.]\n",
      " [0.]\n",
      " [1.]\n",
      " [0.]\n",
      " [1.]\n",
      " [0.]\n",
      " [1.]\n",
      " [0.]\n",
      " [0.]\n",
      " [0.]\n",
      " [0.]\n",
      " [0.]\n",
      " [1.]\n",
      " [1.]\n",
      " [0.]\n",
      " [0.]\n",
      " [0.]\n",
      " [0.]\n",
      " [0.]\n",
      " [0.]\n",
      " [0.]\n",
      " [0.]\n",
      " [1.]\n",
      " [0.]\n",
      " [0.]\n",
      " [0.]\n",
      " [0.]\n",
      " [1.]\n",
      " [1.]\n",
      " [0.]\n",
      " [1.]\n",
      " [0.]\n",
      " [1.]\n",
      " [0.]\n",
      " [0.]\n",
      " [0.]\n",
      " [0.]\n",
      " [1.]\n",
      " [1.]\n",
      " [0.]\n",
      " [1.]\n",
      " [0.]\n",
      " [0.]\n",
      " [0.]\n",
      " [1.]\n",
      " [0.]\n",
      " [0.]\n",
      " [0.]\n",
      " [0.]\n",
      " [0.]\n",
      " [1.]\n",
      " [0.]\n",
      " [1.]\n",
      " [1.]\n",
      " [0.]\n",
      " [0.]\n",
      " [1.]\n",
      " [0.]\n",
      " [0.]\n",
      " [0.]\n",
      " [0.]\n",
      " [0.]\n",
      " [0.]\n",
      " [1.]\n",
      " [0.]\n",
      " [1.]\n",
      " [0.]\n",
      " [0.]\n",
      " [0.]\n",
      " [0.]\n",
      " [1.]\n",
      " [1.]\n",
      " [0.]\n",
      " [0.]\n",
      " [0.]\n",
      " [0.]\n",
      " [0.]\n",
      " [0.]\n",
      " [1.]\n",
      " [0.]\n",
      " [1.]\n",
      " [0.]\n",
      " [1.]\n",
      " [0.]\n",
      " [1.]\n",
      " [0.]\n",
      " [0.]\n",
      " [0.]\n",
      " [0.]\n",
      " [0.]\n",
      " [0.]\n",
      " [0.]\n",
      " [1.]\n",
      " [1.]\n",
      " [0.]\n",
      " [0.]\n",
      " [0.]\n",
      " [0.]\n",
      " [0.]\n",
      " [0.]\n",
      " [0.]\n",
      " [0.]\n",
      " [0.]\n",
      " [0.]\n",
      " [0.]\n",
      " [1.]\n",
      " [0.]\n",
      " [0.]\n",
      " [1.]\n",
      " [0.]\n",
      " [0.]\n",
      " [1.]\n",
      " [0.]\n",
      " [0.]\n",
      " [0.]\n",
      " [1.]\n",
      " [0.]\n",
      " [0.]\n",
      " [0.]\n",
      " [0.]\n",
      " [0.]\n",
      " [0.]\n",
      " [1.]\n",
      " [0.]\n",
      " [0.]\n",
      " [1.]\n",
      " [0.]\n",
      " [0.]\n",
      " [0.]\n",
      " [0.]\n",
      " [1.]\n",
      " [0.]\n",
      " [1.]\n",
      " [0.]\n",
      " [0.]\n",
      " [0.]\n",
      " [0.]\n",
      " [0.]\n",
      " [0.]\n",
      " [1.]\n",
      " [0.]\n",
      " [0.]\n",
      " [0.]\n",
      " [0.]\n",
      " [0.]\n",
      " [0.]\n",
      " [1.]\n",
      " [0.]\n",
      " [0.]\n",
      " [0.]\n",
      " [0.]\n",
      " [1.]\n",
      " [0.]\n",
      " [0.]\n",
      " [0.]\n",
      " [0.]\n",
      " [0.]\n",
      " [1.]\n",
      " [1.]\n",
      " [0.]\n",
      " [0.]\n",
      " [0.]\n",
      " [0.]\n",
      " [0.]\n",
      " [0.]\n",
      " [0.]\n",
      " [1.]\n",
      " [0.]\n",
      " [0.]\n",
      " [0.]\n",
      " [1.]\n",
      " [0.]\n",
      " [0.]\n",
      " [0.]\n",
      " [0.]\n",
      " [1.]\n",
      " [1.]\n",
      " [0.]\n",
      " [0.]\n",
      " [1.]]\n"
     ]
    }
   ],
   "source": [
    "print(train_set[\"type\"])\n",
    "t = (train_set[['type']] + 1) # type = 1, -1 を type = 1, 0 に変換\n",
    "print(\"しかし、*0.5が無いと0または2のみに振れるため、0.5を×\")\n",
    "t = t * 0.5\n",
    "t = t.values\n",
    "print(t)"
   ]
  },
  {
   "cell_type": "code",
   "execution_count": 64,
   "metadata": {},
   "outputs": [
    {
     "name": "stdout",
     "output_type": "stream",
     "text": [
      "np.diag関数の使い方を学ぶ。対角行列をつくるもの。対角の要素に指定するデータを入れると作成できる\n"
     ]
    },
    {
     "data": {
      "text/plain": [
       "array([[1, 0, 0, 0, 0],\n",
       "       [0, 2, 0, 0, 0],\n",
       "       [0, 0, 3, 0, 0],\n",
       "       [0, 0, 0, 4, 0],\n",
       "       [0, 0, 0, 0, 5]])"
      ]
     },
     "execution_count": 64,
     "metadata": {},
     "output_type": "execute_result"
    }
   ],
   "source": [
    "print(\"np.diag関数の使い方を学ぶ。対角行列をつくるもの。対角の要素に指定するデータを入れると作成できる\")\n",
    "data = [1,2,3,4,5]\n",
    "np.diag(data)"
   ]
  },
  {
   "cell_type": "markdown",
   "metadata": {},
   "source": [
    "newaxisについて\n",
    "https://note.nkmk.me/python-numpy-newaxis/"
   ]
  },
  {
   "cell_type": "code",
   "execution_count": 65,
   "metadata": {},
   "outputs": [
    {
     "name": "stdout",
     "output_type": "stream",
     "text": [
      "[[0 1 2]\n",
      " [3 4 5]]\n"
     ]
    }
   ],
   "source": [
    "a = np.arange(6).reshape(2, 3)\n",
    "print(a)"
   ]
  },
  {
   "cell_type": "code",
   "execution_count": 66,
   "metadata": {},
   "outputs": [
    {
     "name": "stdout",
     "output_type": "stream",
     "text": [
      "(2, 3)\n"
     ]
    }
   ],
   "source": [
    "print(a.shape)"
   ]
  },
  {
   "cell_type": "code",
   "execution_count": 67,
   "metadata": {},
   "outputs": [
    {
     "name": "stdout",
     "output_type": "stream",
     "text": [
      "[[0 1 2]\n",
      " [3 4 5]]\n",
      "-----\n",
      "[[0 1 2]]\n",
      "-----\n",
      "[[0 1 2]\n",
      " [3 4 5]]\n",
      "-----\n",
      "[[0 1 2]\n",
      " [3 4 5]]\n",
      "-----\n",
      "[[[0]\n",
      "  [1]\n",
      "  [2]]\n",
      "\n",
      " [[3]\n",
      "  [4]\n",
      "  [5]]]\n",
      "-----\n",
      "[[[0 1 2]\n",
      "  [3 4 5]]]\n",
      "-----\n",
      "[[[0 1 2]\n",
      "  [3 4 5]]]\n",
      "-----\n",
      "[[[0]\n",
      "  [3]]\n",
      "\n",
      " [[1]\n",
      "  [4]]\n",
      "\n",
      " [[2]\n",
      "  [5]]]\n",
      ".\n",
      "[[0]\n",
      " [3]]\n",
      ".\n",
      "[[1]\n",
      " [4]]\n",
      ".\n",
      "[[2]\n",
      " [5]]\n",
      "======\n",
      "[1 2 3 4 5]\n",
      "[1 2 3 4 5]\n"
     ]
    }
   ],
   "source": [
    "print(a[:])\n",
    "print(\"-----\")\n",
    "print(a[0:1])\n",
    "print(\"-----\")\n",
    "print(a[0:2])\n",
    "print(\"-----\")\n",
    "print(a[:, :])\n",
    "print(\"-----\")\n",
    "print(a[:, :, np.newaxis])\n",
    "print(\"-----\")\n",
    "print(a[np.newaxis])\n",
    "print(\"-----\")\n",
    "print(a[np.newaxis,:])\n",
    "print(\"-----\")\n",
    "b = a[np.newaxis,:].T\n",
    "print(b)\n",
    "print(\".\")\n",
    "print(b[0])\n",
    "print(\".\")\n",
    "print(b[1])\n",
    "print(\".\")\n",
    "print(b[2])\n",
    "print(\"======\")\n",
    "c = np.array([1, 2, 3, 4, 5])\n",
    "print(c)\n",
    "print(c.T)"
   ]
  },
  {
   "cell_type": "markdown",
   "metadata": {},
   "source": [
    "＝＝＝＝＝Ｋ平均法（run_kmeansの理解）＝＝＝＝＝"
   ]
  },
  {
   "cell_type": "markdown",
   "metadata": {},
   "source": [
    "num_points = [0] * kは何か？を理解。"
   ]
  },
  {
   "cell_type": "code",
   "execution_count": 68,
   "metadata": {},
   "outputs": [
    {
     "name": "stdout",
     "output_type": "stream",
     "text": [
      "#単に0をk個要素にもつ配列を生成しているだけ\n",
      "[0, 0, 0, 0, 0, 0, 0, 0, 0, 0]\n"
     ]
    }
   ],
   "source": [
    "print(\"#単に0をk個要素にもつ配列を生成しているだけ\")\n",
    "k=10\n",
    "num_points = [0] * k\n",
    "print(num_points)"
   ]
  },
  {
   "cell_type": "code",
   "execution_count": 69,
   "metadata": {},
   "outputs": [],
   "source": [
    "import numpy as np\n",
    "import matplotlib.pyplot as plt\n",
    "from numpy.random import randint\n",
    "from PIL import Image\n",
    "\n",
    "import matplotlib"
   ]
  },
  {
   "cell_type": "code",
   "execution_count": 70,
   "metadata": {},
   "outputs": [
    {
     "name": "stdout",
     "output_type": "stream",
     "text": [
      "  % Total    % Received % Xferd  Average Speed   Time    Time     Time  Current\n",
      "                                 Dload  Upload   Total   Spent    Left  Speed\n",
      "100   139  100   139    0     0    482      0 --:--:-- --:--:-- --:--:--   482\n",
      "100 47187  100 47187    0     0  84868      0 --:--:-- --:--:-- --:--:--  189k\n"
     ]
    }
   ],
   "source": [
    "!curl -OL https://github.com/enakai00/jupyter_ml4se/raw/master/photo.jpg\n",
    "im = Image.open(\"photo.jpg\")    "
   ]
  },
  {
   "cell_type": "code",
   "execution_count": 71,
   "metadata": {},
   "outputs": [
    {
     "data": {
      "text/plain": [
       "<matplotlib.image.AxesImage at 0x7fab2e2f3ca0>"
      ]
     },
     "execution_count": 71,
     "metadata": {},
     "output_type": "execute_result"
    },
    {
     "data": {
      "image/png": "[encoded data removed]",
      "text/plain": [
       "<Figure size 432x288 with 1 Axes>"
      ]
     },
     "metadata": {},
     "output_type": "display_data"
    }
   ],
   "source": [
    "fig = plt.figure()\n",
    "subplot = fig.add_subplot(1, 1, 1)\n",
    "subplot.set_xticks([])\n",
    "subplot.set_yticks([])\n",
    "subplot.imshow(im)"
   ]
  },
  {
   "cell_type": "code",
   "execution_count": 72,
   "metadata": {},
   "outputs": [],
   "source": [
    "pixels = list(im.convert('RGB').getdata())    "
   ]
  },
  {
   "cell_type": "code",
   "execution_count": 73,
   "metadata": {},
   "outputs": [],
   "source": [
    "def run_kmeans(pixels, k):\n",
    "    #cls：どのピクセル（０番めから数えたピクセル）が、どの代表点（class)に属するかを保持\n",
    "    #cls[100]=10の場合、99番目の画素は、k=10番目のグループ(class)に属する\n",
    "    cls = [0] * len(pixels)\n",
    "\n",
    "    # 代表色の初期値をランダムに設定\n",
    "    center = [] #center = 代表点（代表色）＝μ\n",
    "    for i in range(k):\n",
    "        center.append(np.array([randint(256), randint(256), randint(256)]))\n",
    "    print(\"Initial centers:\", end='')\n",
    "    print(list(map(lambda x: x.tolist(), center)))\n",
    "    print(\"========================\")\n",
    "    distortion = 0.0\n",
    "\n",
    "    # 最大50回のIterationを実施\n",
    "    for iter_num in range(50): \n",
    "        center_new = []\n",
    "        #center_new[k]：μkの分子の部分\n",
    "        #num_points[k]：μkの分母の部分\n",
    "        for i in range(k):\n",
    "            center_new.append(np.array([0,0,0]))\n",
    "        num_points = [0] * k\n",
    "        distortion_new = 0.0 #distortionは歪みの意味\n",
    "\n",
    "        # E Phase: 各データが属するグループ（代表色）を計算\n",
    "        for pix, point in enumerate(pixels):\n",
    "            #print(\"pix=\", pix , \" point=\", point, \" point class name=\", point.__class__.__name__)\n",
    "            #pix= 0  point= (251, 253, 252)  point class name= tuple\n",
    "            #ここでpixは0番目からの通し番号、pointは画素データになる。\n",
    "            min_dist = 256*256*3 #最小のargmin(k') |x-μk'|**2を求めるためのテンポラリ変数。初期値として最大のdist値を設定。途中の計算結果はこの値よりも必ず小さくなる\n",
    "            \n",
    "            #内側の和の計算　Σ(1<=k<=K) rnk|xn-μk|**2 を実行 #####\n",
    "            #tuple型からnumpyの配列に変換する\n",
    "            point = np.array(point)\n",
    "            for i in range(k):\n",
    "                d = sum([x*x for x in point-center[i]]) #ノルム２乗＝ベクトルの内積を計算する\n",
    "                if d < min_dist: #argmin(k') |x-μk'|**2を計算している。計算するdの中で最も小さいdのclassを選択する。\n",
    "                    min_dist = d\n",
    "                    cls[pix] = i\n",
    "            #################################################\n",
    "            center_new[cls[pix]] += point #当該pixelが属するグループ(class)の画素（ベクトル）を加算\n",
    "            num_points[cls[pix]] += 1     #当該pixelが属するグループ(class)の画素数を加算\n",
    "            distortion_new += min_dist    #二乗歪み(J)を加算(内側の和の計算結果をΣしていく)\n",
    "\n",
    "        # M Phase: 新しい代表色を計算\n",
    "        for i in range(k):\n",
    "            if num_points[i] == 0:\n",
    "                center_new[i] = np.array([0,0,0])\n",
    "            else:\n",
    "                center_new[i] = center_new[i] / num_points[i]\n",
    "        center = center_new\n",
    "        print(list(map(lambda x: x.tolist(), center)))\n",
    "        print(\"Distortion: J=%d\" % distortion_new)\n",
    "\n",
    "        # Distortion(J)の変化が0.1%未満になったら終了\n",
    "        if iter_num > 0 and distortion - distortion_new < distortion * 0.001:\n",
    "            break\n",
    "        distortion = distortion_new\n",
    "        \n",
    "    # 画像データの各ピクセルを代表色で置き換え\n",
    "    new_pixels = []\n",
    "    for pix in range(len(pixels)):\n",
    "        new_pixels.append(tuple(center[cls[pix]])) #各ピクセルが属するclassの画素になる。\n",
    "\n",
    "    print(\"Done.\")\n",
    "    return list(map(lambda x: (int(x[0]), int(x[1]), int(x[2])), new_pixels))"
   ]
  },
  {
   "cell_type": "code",
   "execution_count": 74,
   "metadata": {},
   "outputs": [
    {
     "name": "stdout",
     "output_type": "stream",
     "text": [
      "Initial centers:[[79, 112, 65], [43, 192, 1]]\n",
      "========================\n",
      "[[160.31939751000445, 144.59393063583815, 126.30347376611827], [0, 0, 0]]\n",
      "Distortion: J=5325038749\n",
      "[[180.132115562107, 159.87231330053186, 145.51516902053743], [58.540403179042876, 66.10806016986731, 27.611965753658286]]\n",
      "Distortion: J=2749063601\n",
      "[[208.69192298309156, 184.9035787340252, 182.29019272993412], [90.03262618275025, 86.02276879448095, 44.953044474136284]]\n",
      "Distortion: J=1833715938\n",
      "[[226.8433867686943, 204.99995156915924, 208.85239490507556], [103.86750986355416, 93.3337169159954, 56.252917968107845]]\n",
      "Distortion: J=1149868195\n",
      "[[232.52006537625113, 214.60886361487445, 219.12243188848217], [109.83886596088283, 95.64159906315223, 61.40725490381256]]\n",
      "Distortion: J=935955236\n",
      "[[234.0766082529324, 218.29851480970999, 222.57274056988553], [112.12621992685034, 96.43513940708338, 63.400852800088224]]\n",
      "Distortion: J=903317464\n",
      "[[234.57758411661507, 219.56280754803097, 223.71205659596924], [112.90692930451966, 96.72769991530748, 64.1099090238505]]\n",
      "Distortion: J=899223459\n",
      "[[234.74415305245057, 219.98142734307825, 224.0908999713385], [113.16705102596696, 96.8316324677683, 64.34953695296895]]\n",
      "Distortion: J=898753956\n",
      "Done.\n"
     ]
    }
   ],
   "source": [
    "result = run_kmeans(pixels, 2)"
   ]
  },
  {
   "cell_type": "code",
   "execution_count": 75,
   "metadata": {},
   "outputs": [
    {
     "data": {
      "text/plain": [
       "<matplotlib.image.AxesImage at 0x7fab2fbede80>"
      ]
     },
     "execution_count": 75,
     "metadata": {},
     "output_type": "execute_result"
    },
    {
     "data": {
      "image/png": "[encoded data removed]",
      "text/plain": [
       "<Figure size 432x288 with 1 Axes>"
      ]
     },
     "metadata": {},
     "output_type": "display_data"
    }
   ],
   "source": [
    "im.putdata(result)\n",
    "fig = plt.figure()\n",
    "subplot = fig.add_subplot(1, 1, 1)\n",
    "subplot.set_xticks([])\n",
    "subplot.set_yticks([])\n",
    "subplot.imshow(im)"
   ]
  },
  {
   "cell_type": "markdown",
   "metadata": {},
   "source": [
    "＝＝＝＝＝ＥＭアルゴリズム＝＝＝＝＝＝"
   ]
  },
  {
   "cell_type": "markdown",
   "metadata": {},
   "source": [
    "bern関数（ベルヌーイ）関数の学習。なかで使われているzipがよくわからん。\n",
    "https://note.nkmk.me/python-zip-usage-for/\n",
    "forループの中で複数のイテラブルオブジェクト（リストやタプルなど）の要素を同時に取得して使いたい場合は、zip()関数の引数にそれらを指定する。\n",
    "とある。わかりやすいのが以下の例。"
   ]
  },
  {
   "cell_type": "code",
   "execution_count": 76,
   "metadata": {
    "scrolled": true
   },
   "outputs": [
    {
     "name": "stdout",
     "output_type": "stream",
     "text": [
      "Alice 24\n",
      "Bob 50\n",
      "Charlie 18\n"
     ]
    }
   ],
   "source": [
    "names = ['Alice', 'Bob', 'Charlie']\n",
    "ages = [24, 50, 18]\n",
    "\n",
    "for name, age in zip(names, ages):\n",
    "    print(name, age)\n",
    "# Alice 24\n",
    "# Bob 50\n",
    "# Charlie 18"
   ]
  },
  {
   "cell_type": "markdown",
   "metadata": {},
   "source": [
    "axis = 0, axis=1 がわからなくなった人へ\n",
    "https://qiita.com/Phoeboooo/items/b464b7df3c64a33caf94"
   ]
  },
  {
   "attachments": {
    "image.png": {
     "image/png": "[encoded data removed]"
    }
   },
   "cell_type": "markdown",
   "metadata": {},
   "source": [
    "![image.png](attachment:image.png)"
   ]
  }
 ],
 "metadata": {
  "kernelspec": {
   "display_name": "Python 3",
   "language": "python",
   "name": "python3"
  },
  "language_info": {
   "codemirror_mode": {
    "name": "ipython",
    "version": 3
   },
   "file_extension": ".py",
   "mimetype": "text/x-python",
   "name": "python",
   "nbconvert_exporter": "python",
   "pygments_lexer": "ipython3",
   "version": "3.8.5"
  }
 },
 "nbformat": 4,
 "nbformat_minor": 4
}
