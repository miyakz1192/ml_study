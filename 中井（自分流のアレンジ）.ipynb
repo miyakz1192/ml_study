{
 "cells": [
  {
   "cell_type": "code",
   "execution_count": 1,
   "metadata": {},
   "outputs": [],
   "source": [
    "import numpy as np\n",
    "import matplotlib.pyplot as plt\n",
    "import pandas as pd\n",
    "from pandas import Series, DataFrame\n",
    "\n",
    "from numpy.random import normal\n",
    "\n",
    "import matplotlib\n",
    "matplotlib.rcParams['font.size'] = 12"
   ]
  },
  {
   "cell_type": "code",
   "execution_count": 2,
   "metadata": {},
   "outputs": [],
   "source": [
    "# データセット {x_n,y_n} (n=1...num) を用意\n",
    "def create_dataset(num):\n",
    "    dataset = DataFrame(columns=['x', 'y'])\n",
    "    for i in range(num):\n",
    "        x = float(i)/float(num-1)\n",
    "        y = np.sin(2*np.pi*x) + normal(scale=0.3)\n",
    "        dataset = dataset.append(Series([x, y], index=['x', 'y']),\n",
    "                                 ignore_index=True)\n",
    "    return dataset\n",
    "\n",
    "def create_dataset2(num):\n",
    "    dataset = DataFrame(columns=['x', 'y'])\n",
    "    data =[[0.000000 ,-0.444100],\n",
    " [0.111111 , 0.813246],\n",
    " [0.222222 , 1.218738],\n",
    " [0.333333 , 0.558266],\n",
    " [0.444444 , 0.535728],\n",
    " [0.555556 ,-0.691942],\n",
    " [0.666667 ,-0.968823],\n",
    " [0.777778 ,-1.103438],\n",
    " [0.888889 ,-0.061476],\n",
    " [1.000000 ,-0.822059]]\n",
    "\n",
    "    \n",
    "    for d in data:\n",
    "        x = d[0]\n",
    "        y = d[1]\n",
    "        dataset = dataset.append(Series([x, y], index=['x', 'y']),\n",
    "                                 ignore_index=True)\n",
    "    return dataset\n",
    "\n"
   ]
  },
  {
   "cell_type": "code",
   "execution_count": 3,
   "metadata": {},
   "outputs": [
    {
     "data": {
      "text/html": [
       "<div>\n",
       "<style scoped>\n",
       "    .dataframe tbody tr th:only-of-type {\n",
       "        vertical-align: middle;\n",
       "    }\n",
       "\n",
       "    .dataframe tbody tr th {\n",
       "        vertical-align: top;\n",
       "    }\n",
       "\n",
       "    .dataframe thead th {\n",
       "        text-align: right;\n",
       "    }\n",
       "</style>\n",
       "<table border=\"1\" class=\"dataframe\">\n",
       "  <thead>\n",
       "    <tr style=\"text-align: right;\">\n",
       "      <th></th>\n",
       "      <th>x</th>\n",
       "      <th>y</th>\n",
       "    </tr>\n",
       "  </thead>\n",
       "  <tbody>\n",
       "    <tr>\n",
       "      <th>0</th>\n",
       "      <td>0.000000</td>\n",
       "      <td>-0.444100</td>\n",
       "    </tr>\n",
       "    <tr>\n",
       "      <th>1</th>\n",
       "      <td>0.111111</td>\n",
       "      <td>0.813246</td>\n",
       "    </tr>\n",
       "    <tr>\n",
       "      <th>2</th>\n",
       "      <td>0.222222</td>\n",
       "      <td>1.218738</td>\n",
       "    </tr>\n",
       "    <tr>\n",
       "      <th>3</th>\n",
       "      <td>0.333333</td>\n",
       "      <td>0.558266</td>\n",
       "    </tr>\n",
       "    <tr>\n",
       "      <th>4</th>\n",
       "      <td>0.444444</td>\n",
       "      <td>0.535728</td>\n",
       "    </tr>\n",
       "    <tr>\n",
       "      <th>5</th>\n",
       "      <td>0.555556</td>\n",
       "      <td>-0.691942</td>\n",
       "    </tr>\n",
       "    <tr>\n",
       "      <th>6</th>\n",
       "      <td>0.666667</td>\n",
       "      <td>-0.968823</td>\n",
       "    </tr>\n",
       "    <tr>\n",
       "      <th>7</th>\n",
       "      <td>0.777778</td>\n",
       "      <td>-1.103438</td>\n",
       "    </tr>\n",
       "    <tr>\n",
       "      <th>8</th>\n",
       "      <td>0.888889</td>\n",
       "      <td>-0.061476</td>\n",
       "    </tr>\n",
       "    <tr>\n",
       "      <th>9</th>\n",
       "      <td>1.000000</td>\n",
       "      <td>-0.822059</td>\n",
       "    </tr>\n",
       "  </tbody>\n",
       "</table>\n",
       "</div>"
      ],
      "text/plain": [
       "          x         y\n",
       "0  0.000000 -0.444100\n",
       "1  0.111111  0.813246\n",
       "2  0.222222  1.218738\n",
       "3  0.333333  0.558266\n",
       "4  0.444444  0.535728\n",
       "5  0.555556 -0.691942\n",
       "6  0.666667 -0.968823\n",
       "7  0.777778 -1.103438\n",
       "8  0.888889 -0.061476\n",
       "9  1.000000 -0.822059"
      ]
     },
     "execution_count": 3,
     "metadata": {},
     "output_type": "execute_result"
    }
   ],
   "source": [
    "N=10            # サンプルを取得する位置 x の個数\n",
    "train_set = create_dataset2(N)\n",
    "#train_set = create_dataset(N)\n",
    "train_set"
   ]
  },
  {
   "cell_type": "code",
   "execution_count": 4,
   "metadata": {},
   "outputs": [
    {
     "data": {
      "text/plain": [
       "0    0.000000\n",
       "1    0.111111\n",
       "2    0.222222\n",
       "3    0.333333\n",
       "4    0.444444\n",
       "5    0.555556\n",
       "6    0.666667\n",
       "7    0.777778\n",
       "8    0.888889\n",
       "9    1.000000\n",
       "Name: x, dtype: float64"
      ]
     },
     "execution_count": 4,
     "metadata": {},
     "output_type": "execute_result"
    }
   ],
   "source": [
    "train_set.x"
   ]
  },
  {
   "cell_type": "code",
   "execution_count": 5,
   "metadata": {},
   "outputs": [
    {
     "name": "stdout",
     "output_type": "stream",
     "text": [
      "0.0\n",
      "0.111111\n",
      "0.222222\n",
      "0.333333\n",
      "0.444444\n",
      "0.555556\n",
      "0.666667\n",
      "0.777778\n",
      "0.888889\n",
      "1.0\n",
      "===\n",
      "0.0\n",
      "0.111111\n"
     ]
    }
   ],
   "source": [
    "c = 0\n",
    "for i in train_set.x:\n",
    "    print(i)\n",
    "    c += 1\n",
    "    \n",
    "print(\"===\")\n",
    "print(train_set.x[0])\n",
    "print(train_set.x[1])"
   ]
  },
  {
   "cell_type": "code",
   "execution_count": 6,
   "metadata": {},
   "outputs": [
    {
     "data": {
      "text/plain": [
       "0   -0.444100\n",
       "1    0.813246\n",
       "2    1.218738\n",
       "3    0.558266\n",
       "4    0.535728\n",
       "5   -0.691942\n",
       "6   -0.968823\n",
       "7   -1.103438\n",
       "8   -0.061476\n",
       "9   -0.822059\n",
       "Name: y, dtype: float64"
      ]
     },
     "execution_count": 6,
     "metadata": {},
     "output_type": "execute_result"
    }
   ],
   "source": [
    "train_set.y"
   ]
  },
  {
   "cell_type": "code",
   "execution_count": 7,
   "metadata": {},
   "outputs": [
    {
     "data": {
      "text/plain": [
       "<matplotlib.collections.PathCollection at 0x7f1bf8cc4c70>"
      ]
     },
     "execution_count": 7,
     "metadata": {},
     "output_type": "execute_result"
    },
    {
     "data": {
      "image/png": "[encoded data removed]",
      "text/plain": [
       "<Figure size 432x288 with 1 Axes>"
      ]
     },
     "metadata": {
      "needs_background": "light"
     },
     "output_type": "display_data"
    }
   ],
   "source": [
    "plt.scatter(train_set.x, train_set.y, marker='o', color='blue')"
   ]
  },
  {
   "cell_type": "code",
   "execution_count": 8,
   "metadata": {},
   "outputs": [],
   "source": [
    "def show_result(subplot, train_set, m):\n",
    "    f = resolve(train_set, m)\n",
    "    subplot.set_xlim(-0.05, 1.05)\n",
    "    subplot.set_ylim(-1.5, 1.5)\n",
    "    subplot.set_title(\"M=%d\" % m, fontsize=10)\n",
    "\n",
    "    # トレーニングセットを表示\n",
    "    subplot.scatter(train_set.x, train_set.y, marker='o',\n",
    "                    color='blue', label=None)\n",
    "\n",
    "    # 真の曲線を表示\n",
    "    linex = np.linspace(0, 1, 101)\n",
    "    liney = np.sin(2*np.pi*linex)\n",
    "    subplot.plot(linex, liney, color='green', linestyle='--')\n",
    "\n",
    "    # 多項式近似の曲線を表示\n",
    "    linex = np.linspace(0, 1, 101)\n",
    "    liney = f(linex)\n",
    "    label = \"E(RMS)=%.2f\" % rms_error(train_set, f)\n",
    "    subplot.plot(linex, liney, color='red', label=label)\n",
    "    subplot.legend(loc=1, fontsize=10)"
   ]
  },
  {
   "cell_type": "code",
   "execution_count": 9,
   "metadata": {},
   "outputs": [],
   "source": [
    "#トレーニングセットのベクトル(縦ベクトル)の成分を計算する\n",
    "#train_set(DataFrame): トレーニングデータセット\n",
    "#m: xの次元( Σtn * xn ** m)\n",
    "def train_vec_elem_aux(train_set, m):\n",
    "    sum = 0\n",
    "    index = 0\n",
    "    for y in train_set.y:\n",
    "        sum = sum + y * train_set.x[index] ** m\n",
    "        index += 1\n",
    "    return sum\n",
    "\n",
    "#トレーニングセットのベクトル（縦ベクトル）を求める\n",
    "#train_set(DataFrame): トレーニングデータセット\n",
    "#m: 求める多項式の次数\n",
    "def train_vec(train_set, m):\n",
    "    v = DataFrame(columns=['x'])\n",
    "    for mm in range(0, m):\n",
    "        data = train_vec_elem_aux(train_set, mm)\n",
    "        v = v.append(Series([data], index=['x']),ignore_index=True)\n",
    "    return v\n",
    "\n",
    "#φ行列の各縦ベクトルの各成分を計算する\n",
    "#train_set(DataFrame)：トレーニングデータセット\n",
    "#m:乗数\n",
    "def phai_vec_elem_aux(train_set, m):\n",
    "    sum = 0\n",
    "    for x in train_set.x:\n",
    "        sum = sum + x ** m\n",
    "    return sum\n",
    "\n",
    "#φ行列の各縦ベクトルの各成分を計算する\n",
    "#train_set(DataFrame)：トレーニングデータセット\n",
    "#ms:開始の乗数の数 \n",
    "#me:終了の乗数の数+1\n",
    "def phai_vec_elem(train_set, ms, me):\n",
    "    v = DataFrame(columns=['x'])\n",
    "    for mm in range(ms, me):\n",
    "        data = phai_vec_elem_aux(train_set, mm)\n",
    "        v = v.append(Series([data], index=['x']),ignore_index=True)\n",
    "    return v\n",
    "\n",
    "#φ行列を計算する\n",
    "#多項式の次数+1\n",
    "def calc_phai(train_set, m):\n",
    "    p = DataFrame()\n",
    "    for mm in range(0, m):\n",
    "        print(\"~~~ a,b~~~~\", 0 + mm, m + mm)\n",
    "        p_ = phai_vec_elem(train_set, 0 + mm, m + mm)\n",
    "        p = pd.concat([p, p_], axis=1)\n",
    "    return p\n",
    "    \n",
    "\n",
    "# 最小二乗法で解を求める\n",
    "def resolve(dataset, m):\n",
    "    print(\"[START] RESOLVE\")\n",
    "\n",
    "    phi = calc_phai(dataset, m)\n",
    "    t = train_vec(dataset, m)\n",
    "    ws = np.dot(np.linalg.inv(phi), t)\n",
    "#    tmp = np.linalg.inv(np.dot(phi.T, phi))\n",
    "#    ws = np.dot(np.dot(tmp, phi.T), t)\n",
    "\n",
    "    def f(x):\n",
    "        y = 0\n",
    "        for i, w in enumerate(ws):\n",
    "            y += w * (x ** i)\n",
    "        return y\n",
    "    print(\"[END] RESOLVE\")\n",
    "    return f"
   ]
  },
  {
   "cell_type": "code",
   "execution_count": 10,
   "metadata": {},
   "outputs": [
    {
     "name": "stdout",
     "output_type": "stream",
     "text": [
      "==== TRAIN DATA SET====\n",
      "          x         y\n",
      "0  0.000000 -0.444100\n",
      "1  0.111111  0.813246\n",
      "2  0.222222  1.218738\n",
      "3  0.333333  0.558266\n",
      "4  0.444444  0.535728\n",
      "5  0.555556 -0.691942\n",
      "6  0.666667 -0.968823\n",
      "7  0.777778 -1.103438\n",
      "8  0.888889 -0.061476\n",
      "9  1.000000 -0.822059\n",
      "=== N ===\n",
      "10\n",
      "==== train_vec_elem_aux ====\n",
      "-0.9658599999999997\n",
      "-1.979848445669\n",
      "-1.944219456835469\n",
      "-1.7079185026946848\n",
      "==== train vec ==== \n",
      "          x\n",
      "0 -0.965860\n",
      "1 -1.979848\n",
      "2 -1.944219\n",
      "3 -1.707919\n",
      "4 -1.490638\n",
      "5 -1.322183\n",
      "6 -1.197015\n",
      "7 -1.104889\n",
      "8 -1.036964\n",
      "9 -0.986588\n",
      "=== phai_vec_elem_aux === \n",
      "10.0\n",
      "5.0\n",
      "3.51851925926\n",
      "2.77777888889\n",
      "==== phai_vec_elem ==== \n",
      "           x\n",
      "0  10.000000\n",
      "1   5.000000\n",
      "2   3.518519\n",
      "3   2.777779\n",
      "4   2.336993\n",
      "5   2.046183\n",
      "6   1.841043\n",
      "7   1.689417\n",
      "8   1.573439\n",
      "9   1.482382\n",
      "          x\n",
      "0  5.000000\n",
      "1  3.518519\n",
      "2  2.777779\n",
      "3  2.336993\n",
      "4  2.046183\n",
      "5  1.841043\n",
      "6  1.689417\n",
      "7  1.573439\n",
      "8  1.482382\n",
      "9  1.409420\n",
      "=== phai ==== \n",
      "~~~ a,b~~~~ 0 10\n",
      "~~~ a,b~~~~ 1 11\n",
      "~~~ a,b~~~~ 2 12\n",
      "~~~ a,b~~~~ 3 13\n",
      "~~~ a,b~~~~ 4 14\n",
      "~~~ a,b~~~~ 5 15\n",
      "~~~ a,b~~~~ 6 16\n",
      "~~~ a,b~~~~ 7 17\n",
      "~~~ a,b~~~~ 8 18\n",
      "~~~ a,b~~~~ 9 19\n",
      "           x         x         x         x         x         x         x  \\\n",
      "0  10.000000  5.000000  3.518519  2.777779  2.336993  2.046183  1.841043   \n",
      "1   5.000000  3.518519  2.777779  2.336993  2.046183  1.841043  1.689417   \n",
      "2   3.518519  2.777779  2.336993  2.046183  1.841043  1.689417  1.573439   \n",
      "3   2.777779  2.336993  2.046183  1.841043  1.689417  1.573439  1.482382   \n",
      "4   2.336993  2.046183  1.841043  1.689417  1.573439  1.482382  1.409420   \n",
      "5   2.046183  1.841043  1.689417  1.573439  1.482382  1.409420  1.349997   \n",
      "6   1.841043  1.689417  1.573439  1.482382  1.409420  1.349997  1.300957   \n",
      "7   1.689417  1.573439  1.482382  1.409420  1.349997  1.300957  1.260044   \n",
      "8   1.573439  1.482382  1.409420  1.349997  1.300957  1.260044  1.225601   \n",
      "9   1.482382  1.409420  1.349997  1.300957  1.260044  1.225601  1.196384   \n",
      "\n",
      "          x         x         x  \n",
      "0  1.689417  1.573439  1.482382  \n",
      "1  1.573439  1.482382  1.409420  \n",
      "2  1.482382  1.409420  1.349997  \n",
      "3  1.409420  1.349997  1.300957  \n",
      "4  1.349997  1.300957  1.260044  \n",
      "5  1.300957  1.260044  1.225601  \n",
      "6  1.260044  1.225601  1.196384  \n",
      "7  1.225601  1.196384  1.171443  \n",
      "8  1.196384  1.171443  1.150034  \n",
      "9  1.171443  1.150034  1.131572  \n"
     ]
    }
   ],
   "source": [
    "#test\n",
    "print(\"==== TRAIN DATA SET====\")\n",
    "print(train_set)\n",
    "print(\"=== N ===\")\n",
    "print(N)\n",
    "\n",
    "print(\"==== train_vec_elem_aux ====\") #→ＯＫ\n",
    "print(train_vec_elem_aux(train_set, 0))\n",
    "print(train_vec_elem_aux(train_set, 1))\n",
    "print(train_vec_elem_aux(train_set, 2))\n",
    "print(train_vec_elem_aux(train_set, 3))\n",
    "\n",
    "print(\"==== train vec ==== \") #-> OK\n",
    "print(train_vec(train_set, N))\n",
    "\n",
    "\n",
    "print(\"=== phai_vec_elem_aux === \") #-> OK\n",
    "print(phai_vec_elem_aux(train_set, 0 ))\n",
    "print(phai_vec_elem_aux(train_set, 1 ))\n",
    "print(phai_vec_elem_aux(train_set, 2 ))\n",
    "print(phai_vec_elem_aux(train_set, 3 ))\n",
    "\n",
    "print(\"==== phai_vec_elem ==== \") #-> OK\n",
    "print(phai_vec_elem(train_set,0,N))\n",
    "print(phai_vec_elem(train_set,1,N+1))\n",
    "\n",
    "print(\"=== phai ==== \")\n",
    "print(calc_phai(train_set, N))\n",
    "\n",
    "\n"
   ]
  },
  {
   "cell_type": "code",
   "execution_count": 11,
   "metadata": {},
   "outputs": [],
   "source": [
    "# 平方根平均二乗誤差（Root mean square error）を計算\n",
    "def rms_error(dataset, f):\n",
    "    err = 0.0\n",
    "    for index, line in dataset.iterrows():\n",
    "        x, y = line.x, line.y\n",
    "        err += 0.5 * (y - f(x))**2\n",
    "    return np.sqrt(2 * err / len(dataset))"
   ]
  },
  {
   "cell_type": "code",
   "execution_count": 12,
   "metadata": {},
   "outputs": [
    {
     "name": "stdout",
     "output_type": "stream",
     "text": [
      "[START] RESOLVE\n",
      "~~~ a,b~~~~ 0 1\n",
      "[END] RESOLVE\n",
      "[START] RESOLVE\n",
      "~~~ a,b~~~~ 0 5\n",
      "~~~ a,b~~~~ 1 6\n",
      "~~~ a,b~~~~ 2 7\n",
      "~~~ a,b~~~~ 3 8\n",
      "~~~ a,b~~~~ 4 9\n",
      "[END] RESOLVE\n",
      "[START] RESOLVE\n",
      "~~~ a,b~~~~ 0 9\n",
      "~~~ a,b~~~~ 1 10\n",
      "~~~ a,b~~~~ 2 11\n",
      "~~~ a,b~~~~ 3 12\n",
      "~~~ a,b~~~~ 4 13\n",
      "~~~ a,b~~~~ 5 14\n",
      "~~~ a,b~~~~ 6 15\n",
      "~~~ a,b~~~~ 7 16\n",
      "~~~ a,b~~~~ 8 17\n",
      "[END] RESOLVE\n",
      "[START] RESOLVE\n",
      "~~~ a,b~~~~ 0 10\n",
      "~~~ a,b~~~~ 1 11\n",
      "~~~ a,b~~~~ 2 12\n",
      "~~~ a,b~~~~ 3 13\n",
      "~~~ a,b~~~~ 4 14\n",
      "~~~ a,b~~~~ 5 15\n",
      "~~~ a,b~~~~ 6 16\n",
      "~~~ a,b~~~~ 7 17\n",
      "~~~ a,b~~~~ 8 18\n",
      "~~~ a,b~~~~ 9 19\n",
      "[END] RESOLVE\n"
     ]
    },
    {
     "data": {
      "image/png": "[encoded data removed]",
      "text/plain": [
       "<Figure size 720x504 with 4 Axes>"
      ]
     },
     "metadata": {
      "needs_background": "light"
     },
     "output_type": "display_data"
    }
   ],
   "source": [
    "fig = plt.figure(figsize=(10, 7))\n",
    "#for i, m in enumerate([9]):\n",
    "for i, m in enumerate([1, 5, 9, 10]):\n",
    "    subplot = fig.add_subplot(2, 2, i+1)\n",
    "    show_result(subplot, train_set, m)"
   ]
  },
  {
   "cell_type": "code",
   "execution_count": null,
   "metadata": {},
   "outputs": [],
   "source": []
  }
 ],
 "metadata": {
  "kernelspec": {
   "display_name": "Python 3",
   "language": "python",
   "name": "python3"
  },
  "language_info": {
   "codemirror_mode": {
    "name": "ipython",
    "version": 3
   },
   "file_extension": ".py",
   "mimetype": "text/x-python",
   "name": "python",
   "nbconvert_exporter": "python",
   "pygments_lexer": "ipython3",
   "version": "3.8.5"
  }
 },
 "nbformat": 4,
 "nbformat_minor": 4
}
